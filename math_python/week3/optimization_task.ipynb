{
  "nbformat": 4,
  "nbformat_minor": 0,
  "metadata": {
    "colab": {
      "name": "optimization_task.ipynb",
      "provenance": [],
      "collapsed_sections": []
    },
    "kernelspec": {
      "name": "python3",
      "display_name": "Python 3"
    }
  },
  "cells": [
    {
      "cell_type": "markdown",
      "metadata": {
        "id": "J0jXFQdt8xx6"
      },
      "source": [
        "Данное задание основано на материалах секции, посвященной оптимизационным задачам и методам их решения. Вам понадобится компьютер с установленным интерпретатором Python и подключенными библиотеками NumPy, SciPy и Matplotlib.\n",
        "\n",
        "Вы научитесь:\n",
        "\n",
        "применять библиотеку SciPy для минимизации функций\n",
        "делать выбор между градиентными и неградиентными методами оптимизации, исходя из особенностей задачи и ваших пожеланий к итоговому решению\n",
        "\n",
        "Введение\n",
        "\n",
        "В этом задании вы научитесь решать задачи оптимизации с помощью библиотеки SciPy. Сначала вы решите задачу поиска минимума функции с помощью одного из градиентных методов оптимизации, затем увидите отличия в работе градиентного метода и одного из методов глобальной оптимизации, а в заключение – найдете глобальный минимум негладкой функции, т.е. функции, у которой не всегда определен градиент.\n",
        "\n",
        "Понимание задачи глобальной оптимизации и отличий градиентных методов, от методов, не использующих градиент, очень полезно в задачах анализа данных, в частности, для подбора параметров алгоритмов.\n",
        "\n",
        "Материалы\n",
        "\n",
        "Справка по функциям пакета scipy.optimize: http://docs.scipy.org/doc/scipy/reference/optimize.html\n",
        "Matplotlib User Guide: http://matplotlib.org/users/index.html\n",
        "Инструкция по выполнению\n",
        "\n",
        "Данное задание состоит из трех частей. В каждой ответом будет набор чисел, который вам нужно будет набрать через пробел в текстовом файле и загрузить. Десятичные дроби записывайте через точку."
      ]
    },
    {
      "cell_type": "markdown",
      "metadata": {
        "id": "7GRkgmI887wB"
      },
      "source": [
        "###Задача 1. Минимизация гладкой функции\n",
        "\n",
        "1. Рассмотрим все ту же функцию из задания по линейной алгебре: f(x) = sin(x / 5) * exp(x / 10) + 5 * exp(-x / 2), но теперь уже на промежутке [1, 30]"
      ]
    },
    {
      "cell_type": "code",
      "metadata": {
        "id": "SCezPosc8hNP"
      },
      "source": [
        "import numpy as np\n",
        "import matplotlib.pyplot as plt\n",
        "import scipy.optimize as opt\n",
        "import math"
      ],
      "execution_count": null,
      "outputs": []
    },
    {
      "cell_type": "code",
      "metadata": {
        "id": "X2IeVe2v9sVW",
        "outputId": "d45aa68e-8f41-4d78-9235-a74f81f688cd",
        "colab": {
          "base_uri": "https://localhost:8080/",
          "height": 286
        }
      },
      "source": [
        "f = lambda x: np.sin(x / 5) * np.exp(x / 10) + 5 * np.exp(-x / 2)\n",
        "f_1 = f(1)\n",
        "f_30 = f(30)\n",
        "x = np.arange(1, 30, 0.1)\n",
        "f_x = f(x)\n",
        "plt.plot(x, f_x)"
      ],
      "execution_count": null,
      "outputs": [
        {
          "output_type": "execute_result",
          "data": {
            "text/plain": [
              "[<matplotlib.lines.Line2D at 0x7f65c8d2f908>]"
            ]
          },
          "metadata": {
            "tags": []
          },
          "execution_count": 4
        },
        {
          "output_type": "display_data",
          "data": {
            "image/png": "[encoded data removed]",
            "text/plain": [
              "<Figure size 432x288 with 1 Axes>"
            ]
          },
          "metadata": {
            "tags": [],
            "needs_background": "light"
          }
        }
      ]
    },
    {
      "cell_type": "markdown",
      "metadata": {
        "id": "5CiJJfWX_8M9"
      },
      "source": [
        "2. В первом задании будем искать минимум этой функции на заданном промежутке с помощью scipy.optimize. Разумеется, в дальнейшем вы будете использовать методы оптимизации для более сложных функций, а f(x) мы рассмотрим как удобный учебный пример."
      ]
    },
    {
      "cell_type": "markdown",
      "metadata": {
        "id": "CrQXhaV0Q_Ht"
      },
      "source": [
        "3. Напишите на Питоне функцию, вычисляющую значение f(x) по известному x. Будьте внимательны: не забывайте про то, что по умолчанию в питоне целые числа делятся нацело, и о том, что функции sin и exp нужно импортировать из модуля math."
      ]
    },
    {
      "cell_type": "markdown",
      "metadata": {
        "id": "hALUQ2hNRHgi"
      },
      "source": [
        "4. Изучите примеры использования scipy.optimize.minimize в документации Scipy (см. \"Материалы\")"
      ]
    },
    {
      "cell_type": "markdown",
      "metadata": {
        "id": "Ku-ZKIkcRLQK"
      },
      "source": [
        "5. Попробуйте найти минимум, используя стандартные параметры в функции scipy.optimize.minimize (т.е. задав только функцию и начальное приближение). Попробуйте менять начальное приближение и изучить, меняется ли результат."
      ]
    },
    {
      "cell_type": "code",
      "metadata": {
        "id": "rOw6VnJaWN3I",
        "outputId": "2f8b6924-05f9-4a33-98f4-5f54fd2e12ec",
        "colab": {
          "base_uri": "https://localhost:8080/",
          "height": 187
        }
      },
      "source": [
        "min_func = opt.minimize(f, 19)\n",
        "min_func"
      ],
      "execution_count": null,
      "outputs": [
        {
          "output_type": "execute_result",
          "data": {
            "text/plain": [
              "      fun: -11.898894665898753\n",
              " hess_inv: array([[1.66903903]])\n",
              "      jac: array([-9.89437103e-06])\n",
              "  message: 'Optimization terminated successfully.'\n",
              "     nfev: 24\n",
              "      nit: 5\n",
              "     njev: 8\n",
              "   status: 0\n",
              "  success: True\n",
              "        x: array([25.88017637])"
            ]
          },
          "metadata": {
            "tags": []
          },
          "execution_count": 33
        }
      ]
    },
    {
      "cell_type": "code",
      "metadata": {
        "id": "Ogo0nCicWqO6",
        "outputId": "c538bf57-850c-4fa1-90a5-e14fe5dbb98d",
        "colab": {
          "base_uri": "https://localhost:8080/",
          "height": 187
        }
      },
      "source": [
        "min_func = opt.minimize(f, 5)\n",
        "min_func"
      ],
      "execution_count": null,
      "outputs": [
        {
          "output_type": "execute_result",
          "data": {
            "text/plain": [
              "      fun: 1.745268290331984\n",
              " hess_inv: array([[6.0552088]])\n",
              "      jac: array([-5.96046448e-08])\n",
              "  message: 'Optimization terminated successfully.'\n",
              "     nfev: 21\n",
              "      nit: 6\n",
              "     njev: 7\n",
              "   status: 0\n",
              "  success: True\n",
              "        x: array([4.13628832])"
            ]
          },
          "metadata": {
            "tags": []
          },
          "execution_count": 34
        }
      ]
    },
    {
      "cell_type": "code",
      "metadata": {
        "id": "Nx_oH7ny-sn8",
        "outputId": "595c0cd6-ef08-4d7c-9098-c5faa6f5c8cb",
        "colab": {
          "base_uri": "https://localhost:8080/",
          "height": 187
        }
      },
      "source": [
        "x = np.random.choice(range(1, 31))\n",
        "result = opt.minimize(f, x)\n",
        "result"
      ],
      "execution_count": null,
      "outputs": [
        {
          "output_type": "execute_result",
          "data": {
            "text/plain": [
              "      fun: -11.89889466593321\n",
              " hess_inv: array([[1.69932345]])\n",
              "      jac: array([7.51018524e-06])\n",
              "  message: 'Optimization terminated successfully.'\n",
              "     nfev: 21\n",
              "      nit: 5\n",
              "     njev: 7\n",
              "   status: 0\n",
              "  success: True\n",
              "        x: array([25.88020575])"
            ]
          },
          "metadata": {
            "tags": []
          },
          "execution_count": 29
        }
      ]
    },
    {
      "cell_type": "markdown",
      "metadata": {
        "id": "prCCoyJUSrLw"
      },
      "source": [
        "6. Укажите в scipy.optimize.minimize в качестве метода BFGS (один из самых точных в большинстве случаев градиентных методов оптимизации), запустите из начального приближения x=2. Градиент функции при этом указывать не нужно – он будет оценен численно. Полученное значение функции в точке минимума - ваш первый ответ по заданию 1, его надо записать с точностью до 2 знака после запятой."
      ]
    },
    {
      "cell_type": "code",
      "metadata": {
        "id": "z8LttQzFCLp8",
        "outputId": "9881cde6-69c3-4eaf-f5e6-792fda724863",
        "colab": {
          "base_uri": "https://localhost:8080/",
          "height": 204
        }
      },
      "source": [
        "x = 2\n",
        "res_2 = opt.minimize(f, x, method='BFGS')\n",
        "y = round(res_2.fun, 2)\n",
        "x = res_2.x.round(2)\n",
        "print ('y =', y, 'x =', float(x))\n",
        "res_2"
      ],
      "execution_count": null,
      "outputs": [
        {
          "output_type": "stream",
          "text": [
            "y = 1.75 x = 4.14\n"
          ],
          "name": "stdout"
        },
        {
          "output_type": "execute_result",
          "data": {
            "text/plain": [
              "      fun: 1.7452682903449388\n",
              " hess_inv: array([[5.98752437]])\n",
              "      jac: array([-2.07126141e-06])\n",
              "  message: 'Optimization terminated successfully.'\n",
              "     nfev: 21\n",
              "      nit: 6\n",
              "     njev: 7\n",
              "   status: 0\n",
              "  success: True\n",
              "        x: array([4.13627618])"
            ]
          },
          "metadata": {
            "tags": []
          },
          "execution_count": 45
        }
      ]
    },
    {
      "cell_type": "markdown",
      "metadata": {
        "id": "wAxKsGSKXnjY"
      },
      "source": [
        "7. Теперь измените начальное приближение на x=30. Значение функции в точке минимума - ваш второй ответ по заданию 1, его надо записать через пробел после первого, с точностью до 2 знака после запятой.\n"
      ]
    },
    {
      "cell_type": "code",
      "metadata": {
        "id": "7IJ8UIZQQN7C",
        "outputId": "33e56154-f4e5-4127-935b-b1df4afcb796",
        "colab": {
          "base_uri": "https://localhost:8080/",
          "height": 204
        }
      },
      "source": [
        "x = 30\n",
        "res_2 = opt.minimize(f, x, method='BFGS')\n",
        "y = round(res_2.fun, 2)\n",
        "x = res_2.x.round(2)\n",
        "print ('y =', y, 'x =', float(x))\n",
        "res_2"
      ],
      "execution_count": null,
      "outputs": [
        {
          "output_type": "stream",
          "text": [
            "y = -11.9 x = 25.88\n"
          ],
          "name": "stdout"
        },
        {
          "output_type": "execute_result",
          "data": {
            "text/plain": [
              "      fun: -11.898894665981285\n",
              " hess_inv: array([[1.67932484]])\n",
              "      jac: array([2.38418579e-07])\n",
              "  message: 'Optimization terminated successfully.'\n",
              "     nfev: 21\n",
              "      nit: 6\n",
              "     njev: 7\n",
              "   status: 0\n",
              "  success: True\n",
              "        x: array([25.88019339])"
            ]
          },
          "metadata": {
            "tags": []
          },
          "execution_count": 44
        }
      ]
    },
    {
      "cell_type": "markdown",
      "metadata": {
        "id": "j3t9zxK3XqAF"
      },
      "source": [
        "8.Стоит обдумать полученный результат. Почему ответ отличается в зависимости от начального приближения? Если нарисовать график функции (например, как это делалось в видео, где мы знакомились с Numpy, Scipy и Matplotlib), можно увидеть, в какие именно минимумы мы попали. В самом деле, градиентные методы обычно не решают задачу глобальной оптимизации, поэтому результаты работы ожидаемые и вполне корректные."
      ]
    },
    {
      "cell_type": "markdown",
      "metadata": {
        "id": "ByiR_bj3osvw"
      },
      "source": [
        "###Задача 2. Глобальная оптимизация."
      ]
    },
    {
      "cell_type": "markdown",
      "metadata": {
        "id": "LK5h0jq5oxJ-"
      },
      "source": [
        "1. Теперь попробуем применить к той же функции f(x) метод глобальной оптимизации — дифференциальную эволюцию."
      ]
    },
    {
      "cell_type": "markdown",
      "metadata": {
        "id": "WcHb9NHdo7sd"
      },
      "source": [
        "2. Изучите документацию и примеры использования функции scipy.optimize.differential_evolution."
      ]
    },
    {
      "cell_type": "markdown",
      "metadata": {
        "id": "u_b-qfXwpAqe"
      },
      "source": [
        "3. Обратите внимание, что границы значений аргументов функции представляют собой список кортежей (list, в который помещены объекты типа tuple). Даже если у вас функция одного аргумента, возьмите границы его значений в квадратные скобки, чтобы передавать в этом параметре список из одного кортежа, т.к. в реализации scipy.optimize.differential_evolution длина этого списка используется чтобы определить количество аргументов функции."
      ]
    },
    {
      "cell_type": "code",
      "metadata": {
        "id": "tuK6li8wrttn",
        "outputId": "8a0732e5-40c3-40a6-8c5e-b4252204412f",
        "colab": {
          "base_uri": "https://localhost:8080/",
          "height": 153
        }
      },
      "source": [
        "x = [(1, 30)]\n",
        "min_f = opt.differential_evolution(f, x)\n",
        "print('y =', float(min_f.fun.round(2)))"
      ],
      "execution_count": null,
      "outputs": [
        {
          "output_type": "stream",
          "text": [
            "y = -11.9\n"
          ],
          "name": "stdout"
        },
        {
          "output_type": "execute_result",
          "data": {
            "text/plain": [
              "     fun: array([-11.89889467])\n",
              "     jac: array([-3.55271368e-07])\n",
              " message: 'Optimization terminated successfully.'\n",
              "    nfev: 96\n",
              "     nit: 5\n",
              " success: True\n",
              "       x: array([25.88019226])"
            ]
          },
          "metadata": {
            "tags": []
          },
          "execution_count": 42
        }
      ]
    },
    {
      "cell_type": "markdown",
      "metadata": {
        "id": "Z7hPDoros3J8"
      },
      "source": [
        "5. Заметьте, дифференциальная эволюция справилась с задачей поиска глобального минимума на отрезке, т.к. по своему устройству она предполагает борьбу с попаданием в локальные минимумы."
      ]
    },
    {
      "cell_type": "markdown",
      "metadata": {
        "id": "aTKC8LdHtRWL"
      },
      "source": [
        "6. Сравните количество итераций, потребовавшихся BFGS для нахождения минимума при хорошем начальном приближении, с количеством итераций, потребовавшихся дифференциальной эволюции. При повторных запусках дифференциальной эволюции количество итераций будет меняться, но в этом примере, скорее всего, оно всегда будет сравнимым с количеством итераций BFGS. Однако в дифференциальной эволюции за одну итерацию требуется выполнить гораздо больше действий, чем в BFGS. Например, можно обратить внимание на количество вычислений значения функции (nfev) и увидеть, что у BFGS оно значительно меньше. Кроме того, время работы дифференциальной эволюции очень быстро растет с увеличением числа аргументов функции."
      ]
    },
    {
      "cell_type": "code",
      "metadata": {
        "id": "pQ63TIF-r7Q2",
        "outputId": "0b19275b-6416-460e-bec6-497840951017",
        "colab": {
          "base_uri": "https://localhost:8080/",
          "height": 136
        }
      },
      "source": [
        "min_f"
      ],
      "execution_count": null,
      "outputs": [
        {
          "output_type": "execute_result",
          "data": {
            "text/plain": [
              "     fun: array([-11.89889467])\n",
              "     jac: array([-3.55271368e-07])\n",
              " message: 'Optimization terminated successfully.'\n",
              "    nfev: 96\n",
              "     nit: 5\n",
              " success: True\n",
              "       x: array([25.88019226])"
            ]
          },
          "metadata": {
            "tags": []
          },
          "execution_count": 43
        }
      ]
    },
    {
      "cell_type": "markdown",
      "metadata": {
        "id": "LzOkgDvutsy_"
      },
      "source": [
        "\n",
        "nit - кол - во итераций  nfev - кол -во вычислений ф-и"
      ]
    },
    {
      "cell_type": "markdown",
      "metadata": {
        "id": "5wcLJZA_v8vi"
      },
      "source": [
        "###Задача 3. Минимизация негладкой функции"
      ]
    },
    {
      "cell_type": "markdown",
      "metadata": {
        "id": "KekbNFhBv-Ip"
      },
      "source": [
        "Теперь рассмотрим функцию h(x) = int(f(x)) на том же отрезке [1, 30], т.е. теперь каждое значение f(x) приводится к типу int и функция принимает только целые значения."
      ]
    },
    {
      "cell_type": "code",
      "metadata": {
        "id": "dzdArX0dwA_R"
      },
      "source": [
        "def func(x):\n",
        "  return int(np.sin(x / 5) * np.exp(x / 10) + 5 * np.exp(-x / 2))\n"
      ],
      "execution_count": null,
      "outputs": []
    },
    {
      "cell_type": "markdown",
      "metadata": {
        "id": "M3MEJqbjw_G_"
      },
      "source": [
        "2. Такая функция будет негладкой и даже разрывной, а ее график будет иметь ступенчатый вид. Убедитесь в этом, построив график h(x) с помощью matplotlib."
      ]
    },
    {
      "cell_type": "code",
      "metadata": {
        "id": "BEo0fRoVwQDR",
        "outputId": "3512302f-f986-4215-adaf-98bdb63d12c1",
        "colab": {
          "base_uri": "https://localhost:8080/",
          "height": 282
        }
      },
      "source": [
        "x = np.arange(1, 31, 0.01)\n",
        "h = np.array([func(i) for i in x])\n",
        "plt.plot(x, h)\n"
      ],
      "execution_count": null,
      "outputs": [
        {
          "output_type": "execute_result",
          "data": {
            "text/plain": [
              "[<matplotlib.lines.Line2D at 0x7f65bd589c88>]"
            ]
          },
          "metadata": {
            "tags": []
          },
          "execution_count": 69
        },
        {
          "output_type": "display_data",
          "data": {
            "image/png": "[encoded data removed]",
            "text/plain": [
              "<Figure size 432x288 with 1 Axes>"
            ]
          },
          "metadata": {
            "tags": [],
            "needs_background": "light"
          }
        }
      ]
    },
    {
      "cell_type": "markdown",
      "metadata": {
        "id": "hJnZtFPs0Jv2"
      },
      "source": [
        "3. Попробуйте найти минимум функции h(x) с помощью BFGS, взяв в качестве начального приближения x=30. Получившееся значение функции – ваш первый ответ в этой задаче."
      ]
    },
    {
      "cell_type": "code",
      "metadata": {
        "id": "P36MnsiJw39o",
        "outputId": "f5bfbce4-4a9d-47cb-98cc-912b67657bc2",
        "colab": {
          "base_uri": "https://localhost:8080/",
          "height": 187
        }
      },
      "source": [
        "x = 30\n",
        "res_2 = opt.minimize(func, x, method='BFGS')\n",
        "res_2"
      ],
      "execution_count": null,
      "outputs": [
        {
          "output_type": "execute_result",
          "data": {
            "text/plain": [
              "      fun: -5\n",
              " hess_inv: array([[1]])\n",
              "      jac: array([0.])\n",
              "  message: 'Optimization terminated successfully.'\n",
              "     nfev: 3\n",
              "      nit: 0\n",
              "     njev: 1\n",
              "   status: 0\n",
              "  success: True\n",
              "        x: array([30.])"
            ]
          },
          "metadata": {
            "tags": []
          },
          "execution_count": 71
        }
      ]
    },
    {
      "cell_type": "markdown",
      "metadata": {
        "id": "zQpe7-0K0zS-"
      },
      "source": [
        "wrong"
      ]
    },
    {
      "cell_type": "markdown",
      "metadata": {
        "id": "npCuIWQP00nN"
      },
      "source": [
        "4. Теперь попробуйте найти минимум h(x) на отрезке [1, 30] с помощью дифференциальной эволюции. Значение функции h(x) в точке минимума – это ваш второй ответ в этом задании. Запишите его через пробел после предыдущего."
      ]
    },
    {
      "cell_type": "code",
      "metadata": {
        "id": "2E74s8bX02Xd",
        "outputId": "32df35bd-1f1d-4c40-f434-6b8b836bf314",
        "colab": {
          "base_uri": "https://localhost:8080/",
          "height": 136
        }
      },
      "source": [
        "x = [(1,31)]\n",
        "min_f = opt.differential_evolution(func, x)\n",
        "print('y =', float(min_f.fun))\n",
        "min_f\n"
      ],
      "execution_count": null,
      "outputs": [
        {
          "output_type": "stream",
          "text": [
            "y = -11.0\n"
          ],
          "name": "stdout"
        },
        {
          "output_type": "execute_result",
          "data": {
            "text/plain": [
              "     fun: -11.0\n",
              " message: 'Optimization terminated successfully.'\n",
              "    nfev: 92\n",
              "     nit: 5\n",
              " success: True\n",
              "       x: array([25.17315295])"
            ]
          },
          "metadata": {
            "tags": []
          },
          "execution_count": 78
        }
      ]
    },
    {
      "cell_type": "markdown",
      "metadata": {
        "id": "NhsfC4Mj3ESf"
      },
      "source": [
        "wrong"
      ]
    },
    {
      "cell_type": "markdown",
      "metadata": {
        "id": "edD8BNBc2nPL"
      },
      "source": [
        "5. Обратите внимание на то, что полученные ответы различаются. Это ожидаемый результат, ведь BFGS использует градиент (в одномерном случае – производную) и явно не пригоден для минимизации рассмотренной нами разрывной функции. Попробуйте понять, почему минимум, найденный BFGS, именно такой (возможно в этом вам поможет выбор разных начальных приближений).\n"
      ]
    },
    {
      "cell_type": "markdown",
      "metadata": {
        "id": "-J3NojjB2_3I"
      },
      "source": [
        "6. Выполнив это задание, вы увидели на практике, чем поиск минимума функции отличается от глобальной оптимизации, и когда может быть полезно применить вместо градиентного метода оптимизации метод, не использующий градиент. Кроме того, вы попрактиковались в использовании библиотеки SciPy для решения оптимизационных задач, и теперь знаете, насколько это просто и удобно."
      ]
    }
  ]
}