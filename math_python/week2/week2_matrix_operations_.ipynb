{
  "nbformat": 4,
  "nbformat_minor": 0,
  "metadata": {
    "kernelspec": {
      "display_name": "Python 2",
      "language": "python",
      "name": "python2"
    },
    "language_info": {
      "codemirror_mode": {
        "name": "ipython",
        "version": 2
      },
      "file_extension": ".py",
      "mimetype": "text/x-python",
      "name": "python",
      "nbconvert_exporter": "python",
      "pygments_lexer": "ipython2",
      "version": "2.7.11"
    },
    "colab": {
      "name": "week2_matrix_operations-.ipynb",
      "provenance": []
    }
  },
  "cells": [
    {
      "cell_type": "markdown",
      "metadata": {
        "id": "-zSvucvwVg7V",
        "colab_type": "text"
      },
      "source": [
        "#  `NumPy`: матрицы и операции над ними\n",
        "---"
      ]
    },
    {
      "cell_type": "markdown",
      "metadata": {
        "id": "cnIun5fHVg7W",
        "colab_type": "text"
      },
      "source": [
        "В этом ноутбуке из сторонних библиотек нам понадобится только `NumPy`. Для удобства импортируем ее под более коротким именем:"
      ]
    },
    {
      "cell_type": "code",
      "metadata": {
        "id": "3H5w4woVVg7X",
        "colab_type": "code",
        "colab": {}
      },
      "source": [
        "import numpy as np"
      ],
      "execution_count": null,
      "outputs": []
    },
    {
      "cell_type": "markdown",
      "metadata": {
        "id": "85DB1ni7Vg7a",
        "colab_type": "text"
      },
      "source": [
        "## 1. Создание матриц"
      ]
    },
    {
      "cell_type": "markdown",
      "metadata": {
        "id": "Wt5JwC9UVg7a",
        "colab_type": "text"
      },
      "source": [
        "Приведем несколько способов создания матриц в `NumPy`."
      ]
    },
    {
      "cell_type": "markdown",
      "metadata": {
        "id": "io8iQX1xVg7b",
        "colab_type": "text"
      },
      "source": [
        "Самый простой способ — с помощью функции __`numpy.array(list, dtype=None, ...)`__.\n",
        "\n",
        "В качестве первого аргумента ей надо передать итерируемый объект, элементами которого являются другие итерируемые объекты одинаковой длины и содержащие данные одинакового типа.\n",
        "\n",
        "Второй аргумент является опциональным и определяет тип данных матрицы. Его можно не задавать, тогда тип данных будет определен из типа элементов первого аргумента. При задании этого параметра будет произведена попытка приведения типов.\n",
        "\n",
        "Например, матрицу из списка списков целых чисел можно создать следующим образом:"
      ]
    },
    {
      "cell_type": "code",
      "metadata": {
        "id": "gF8V3uJ5Vg7b",
        "colab_type": "code",
        "colab": {},
        "outputId": "69a45658-3bf5-49cc-e29c-517ef3a0ae99"
      },
      "source": [
        "a = np.array([[1, 2, 3], [2, 5, 6], [6, 7, 4]])\n",
        "print \"Матрица:\\n\", a"
      ],
      "execution_count": null,
      "outputs": [
        {
          "output_type": "stream",
          "text": [
            "Матрица:\n",
            "[[1 2 3]\n",
            " [2 5 6]\n",
            " [6 7 4]]\n"
          ],
          "name": "stdout"
        }
      ]
    },
    {
      "cell_type": "markdown",
      "metadata": {
        "id": "Vwk-udT3Vg7e",
        "colab_type": "text"
      },
      "source": [
        "Второй способ создания — с помощью встроенных функций __`numpy.eye(N, M=None, ...)`__, __`numpy.zeros(shape, ...)`__, __`numpy.ones(shape, ...)`__.\n",
        "\n",
        "Первая функция создает единичную матрицу размера $N \\times M$; если $M$ не задан, то $M = N$. \n",
        "\n",
        "Вторая и третья функции создают матрицы, состоящие целиком из нулей или единиц соответственно. В качестве первого аргумента необходимо задать размерность массива — кортеж целых чисел. В двумерном случае это набор из двух чисел: количество строк и столбцов матрицы.\n",
        "\n",
        "__Примеры:__"
      ]
    },
    {
      "cell_type": "code",
      "metadata": {
        "id": "-dT6ic4TVg7f",
        "colab_type": "code",
        "colab": {},
        "outputId": "e7f97316-fa05-4455-8007-18029b1cc5d8"
      },
      "source": [
        "b = np.eye(5)\n",
        "print \"Единичная матрица:\\n\", b"
      ],
      "execution_count": null,
      "outputs": [
        {
          "output_type": "stream",
          "text": [
            "Единичная матрица:\n",
            "[[ 1.  0.  0.  0.  0.]\n",
            " [ 0.  1.  0.  0.  0.]\n",
            " [ 0.  0.  1.  0.  0.]\n",
            " [ 0.  0.  0.  1.  0.]\n",
            " [ 0.  0.  0.  0.  1.]]\n"
          ],
          "name": "stdout"
        }
      ]
    },
    {
      "cell_type": "code",
      "metadata": {
        "id": "w7TvcFrHVg7h",
        "colab_type": "code",
        "colab": {},
        "outputId": "12222f7b-22a8-4481-8341-a2bd18190c90"
      },
      "source": [
        "c = np.ones((7, 5))\n",
        "print \"Матрица, состоящая из одних единиц:\\n\", c"
      ],
      "execution_count": null,
      "outputs": [
        {
          "output_type": "stream",
          "text": [
            "Матрица, состоящая из одних единиц:\n",
            "[[ 1.  1.  1.  1.  1.]\n",
            " [ 1.  1.  1.  1.  1.]\n",
            " [ 1.  1.  1.  1.  1.]\n",
            " [ 1.  1.  1.  1.  1.]\n",
            " [ 1.  1.  1.  1.  1.]\n",
            " [ 1.  1.  1.  1.  1.]\n",
            " [ 1.  1.  1.  1.  1.]]\n"
          ],
          "name": "stdout"
        }
      ]
    },
    {
      "cell_type": "markdown",
      "metadata": {
        "id": "B-NpSuKJVg7j",
        "colab_type": "text"
      },
      "source": [
        "__Обратите внимание: размерность массива задается не двумя аргументами функции, а одним — кортежем!__ \n",
        "\n",
        "Вот так —  __`np.ones(7, 5)`__ — создать массив не получится, так как функции в качестве параметра `shape` передается `7`, а не кортеж `(7, 5)`."
      ]
    },
    {
      "cell_type": "markdown",
      "metadata": {
        "id": "oz05fmaWVg7j",
        "colab_type": "text"
      },
      "source": [
        "И, наконец, третий способ — с помощью функции __`numpy.arange([start, ]stop, [step, ], ...)`__, которая создает одномерный массив последовательных чисел из промежутка __`[start, stop)`__ с заданным шагом __`step`__, и _метода_ __`array.reshape(shape)`__. \n",
        "\n",
        "Параметр __`shape`__, как и в предыдущем примере, задает размерность матрицы (кортеж чисел). Логика работы метода ясна из следующего примера:"
      ]
    },
    {
      "cell_type": "code",
      "metadata": {
        "id": "BQC_FDoOVg7k",
        "colab_type": "code",
        "colab": {},
        "outputId": "f2728b67-ad9c-450c-9156-182459b37c69"
      },
      "source": [
        "v = np.arange(0, 24, 2)\n",
        "print \"Вектор-столбец:\\n\", v"
      ],
      "execution_count": null,
      "outputs": [
        {
          "output_type": "stream",
          "text": [
            "Вектор-столбец:\n",
            "[ 0  2  4  6  8 10 12 14 16 18 20 22]\n"
          ],
          "name": "stdout"
        }
      ]
    },
    {
      "cell_type": "code",
      "metadata": {
        "id": "eLVqzJZcVg7m",
        "colab_type": "code",
        "colab": {},
        "outputId": "6bc7cd05-b023-4f5f-a5e6-705c1d8269a9"
      },
      "source": [
        "d = v.reshape((3, 4))\n",
        "print \"Матрица:\\n\", d"
      ],
      "execution_count": null,
      "outputs": [
        {
          "output_type": "stream",
          "text": [
            "Матрица:\n",
            "[[ 0  2  4  6]\n",
            " [ 8 10 12 14]\n",
            " [16 18 20 22]]\n"
          ],
          "name": "stdout"
        }
      ]
    },
    {
      "cell_type": "markdown",
      "metadata": {
        "id": "cH7V7thIVg7o",
        "colab_type": "text"
      },
      "source": [
        "Более подробно о том, как создавать массивы в `NumPy`, \n",
        "см. [документацию](http://docs.scipy.org/doc/numpy-1.10.1/user/basics.creation.html)."
      ]
    },
    {
      "cell_type": "markdown",
      "metadata": {
        "id": "ffdi9HA4Vg7p",
        "colab_type": "text"
      },
      "source": [
        "## 2. Индексирование "
      ]
    },
    {
      "cell_type": "markdown",
      "metadata": {
        "id": "SSNF9m1OVg7p",
        "colab_type": "text"
      },
      "source": [
        "Для получения элементов матрицы можно использовать несколько способов. Рассмотрим самые простые из них."
      ]
    },
    {
      "cell_type": "markdown",
      "metadata": {
        "id": "ij0Ox7xqVg7q",
        "colab_type": "text"
      },
      "source": [
        "Для удобства напомним, как выглядит матрица __d__:"
      ]
    },
    {
      "cell_type": "code",
      "metadata": {
        "id": "c3ghgTt3Vg7q",
        "colab_type": "code",
        "colab": {},
        "outputId": "b96c2df9-5dcf-4193-c22a-37b5c0935e59"
      },
      "source": [
        "print \"Матрица:\\n\", d"
      ],
      "execution_count": null,
      "outputs": [
        {
          "output_type": "stream",
          "text": [
            "Матрица:\n",
            "[[ 0  2  4  6]\n",
            " [ 8 10 12 14]\n",
            " [16 18 20 22]]\n"
          ],
          "name": "stdout"
        }
      ]
    },
    {
      "cell_type": "markdown",
      "metadata": {
        "id": "pwMvBz7YVg7s",
        "colab_type": "text"
      },
      "source": [
        "Элемент на пересечении строки __`i`__ и столбца __`j`__ можно получить с помощью выражения __`array[i, j]`__. \n",
        "\n",
        "__Обратите внимание:__ строки и столбцы нумеруются с нуля!"
      ]
    },
    {
      "cell_type": "code",
      "metadata": {
        "id": "jewT8yUBVg7s",
        "colab_type": "code",
        "colab": {},
        "outputId": "192fdfae-c31e-4f16-b138-87c5906af318"
      },
      "source": [
        "print \"Второй элемент третьей строки матрицы:\", d[2, 1]"
      ],
      "execution_count": null,
      "outputs": [
        {
          "output_type": "stream",
          "text": [
            "Второй элемент третьей строки матрицы: 18\n"
          ],
          "name": "stdout"
        }
      ]
    },
    {
      "cell_type": "markdown",
      "metadata": {
        "id": "0g18YyxwVg7u",
        "colab_type": "text"
      },
      "source": [
        "Из матрицы можно получать целые строки или столбцы с помощью выражений __`array[i, :]`__ или __`array[:, j]`__ соответственно:"
      ]
    },
    {
      "cell_type": "code",
      "metadata": {
        "id": "KhBAhsrJVg7u",
        "colab_type": "code",
        "colab": {},
        "outputId": "ac66ebdd-2105-407e-84fa-8aff71f26f96"
      },
      "source": [
        "print \"Вторая строка матрицы d:\\n\", d[1, :]\n",
        "print \"Четвертый столбец матрицы d:\\n\", d[:, 3]"
      ],
      "execution_count": null,
      "outputs": [
        {
          "output_type": "stream",
          "text": [
            "Вторая строка матрицы d:\n",
            "[ 8 10 12 14]\n",
            "Четвертый столбец матрицы d:\n",
            "[ 6 14 22]\n"
          ],
          "name": "stdout"
        }
      ]
    },
    {
      "cell_type": "markdown",
      "metadata": {
        "id": "u_GP35aUVg7x",
        "colab_type": "text"
      },
      "source": [
        "Еще один способ получения элементов — с помощью выражения __`array[list1, list2]`__, где __`list1`__, __`list2`__ — некоторые списки целых чисел. При такой адресации одновременно просматриваются оба списка и возвращаются элементы матрицы с соответствующими координатами. Следующий пример более понятно объясняет механизм работы такого индексирования:"
      ]
    },
    {
      "cell_type": "code",
      "metadata": {
        "id": "ykE9t2g8Vg7x",
        "colab_type": "code",
        "colab": {},
        "outputId": "8845d2c1-c2a2-49ef-b3d6-f5229aecb92b"
      },
      "source": [
        "print \"Элементы матрицы d с координатами (1, 2) и (0, 3):\\n\", d[[1, 0], [2, 3]]"
      ],
      "execution_count": null,
      "outputs": [
        {
          "output_type": "stream",
          "text": [
            "Элементы матрицы d с координатами (1, 2) и (0, 3):\n",
            "[12  6]\n"
          ],
          "name": "stdout"
        }
      ]
    },
    {
      "cell_type": "markdown",
      "metadata": {
        "id": "YykJeTN0Vg7z",
        "colab_type": "text"
      },
      "source": [
        "Более подробно о различных способах индексирования в массивах\n",
        "см. [документацию](http://docs.scipy.org/doc/numpy/reference/arrays.indexing.html)."
      ]
    },
    {
      "cell_type": "markdown",
      "metadata": {
        "id": "x_nhlMSlVg7z",
        "colab_type": "text"
      },
      "source": [
        "## 3. Векторы, вектор-строки и вектор-столбцы"
      ]
    },
    {
      "cell_type": "markdown",
      "metadata": {
        "id": "dCNBAArtVg70",
        "colab_type": "text"
      },
      "source": [
        "Следующие два способа задания массива кажутся одинаковыми: "
      ]
    },
    {
      "cell_type": "code",
      "metadata": {
        "id": "OYoH8ozcVg70",
        "colab_type": "code",
        "colab": {}
      },
      "source": [
        "a = np.array([1, 2, 3])\n",
        "b = np.array([[1], [2], [3]])"
      ],
      "execution_count": null,
      "outputs": []
    },
    {
      "cell_type": "markdown",
      "metadata": {
        "id": "uzBthfN_Vg72",
        "colab_type": "text"
      },
      "source": [
        "Однако, на самом деле, это задание одномерного массива (то есть _вектора_) и двумерного массива:"
      ]
    },
    {
      "cell_type": "code",
      "metadata": {
        "id": "Pqk3dRfsVg72",
        "colab_type": "code",
        "colab": {},
        "outputId": "551278f4-f030-4b0e-9659-e62e87ec24c6"
      },
      "source": [
        "print \"Вектор:\\n\", a\n",
        "print \"Его размерность:\\n\", a.shape\n",
        "print \"Двумерный массив:\\n\", b\n",
        "print \"Его размерность:\\n\", b.shape"
      ],
      "execution_count": null,
      "outputs": [
        {
          "output_type": "stream",
          "text": [
            "Вектор:\n",
            "[1 2 3]\n",
            "Его размерность:\n",
            "(3,)\n",
            "Двумерный массив:\n",
            "[[1]\n",
            " [2]\n",
            " [3]]\n",
            "Его размерность:\n",
            "(3, 1)\n"
          ],
          "name": "stdout"
        }
      ]
    },
    {
      "cell_type": "markdown",
      "metadata": {
        "id": "hiqXvqQ0Vg74",
        "colab_type": "text"
      },
      "source": [
        "__Обратите внимание:__ _вектор_ (одномерный массив) и _вектор-столбец_ или _вектор-строка_ (двумерные массивы) являются различными объектами в `NumPy`, хотя математически задают один и тот же объект. В случае одномерного массива кортеж __`shape`__ состоит из одного числа и имеет вид __`(n,)`__, где __`n`__ — длина вектора. В случае двумерных векторов в __`shape`__ присутствует еще одна размерность, равная единице. "
      ]
    },
    {
      "cell_type": "markdown",
      "metadata": {
        "id": "qN5jgoqhVg74",
        "colab_type": "text"
      },
      "source": [
        "В большинстве случаев неважно, какое представление использовать, потому что часто срабатывает приведение типов. Но некоторые операции не работают для одномерных массивов. Например, транспонирование (о нем пойдет речь ниже):"
      ]
    },
    {
      "cell_type": "code",
      "metadata": {
        "id": "Nvlx7Qt2Vg75",
        "colab_type": "code",
        "colab": {}
      },
      "source": [
        "a = a.T\n",
        "b = b.T"
      ],
      "execution_count": null,
      "outputs": []
    },
    {
      "cell_type": "code",
      "metadata": {
        "id": "EP0OdydXVg76",
        "colab_type": "code",
        "colab": {},
        "outputId": "6e8cd6a2-87dd-40a5-e5d7-adc25064c875"
      },
      "source": [
        "print \"Вектор не изменился:\\n\", a\n",
        "print \"Его размерность также не изменилась:\\n\", a.shape\n",
        "print \"Транспонированный двумерный массив:\\n\", b\n",
        "print \"Его размерность изменилась:\\n\", b.shape"
      ],
      "execution_count": null,
      "outputs": [
        {
          "output_type": "stream",
          "text": [
            "Вектор не изменился:\n",
            "[1 2 3]\n",
            "Его размерность также не изменилась:\n",
            "(3,)\n",
            "Транспонированный двумерный массив:\n",
            "[[1 2 3]]\n",
            "Его размерность изменилась:\n",
            "(1, 3)\n"
          ],
          "name": "stdout"
        }
      ]
    },
    {
      "cell_type": "markdown",
      "metadata": {
        "id": "n14AR8MwVg79",
        "colab_type": "text"
      },
      "source": [
        "## 4. Умножение матриц и столбцов"
      ]
    },
    {
      "cell_type": "markdown",
      "metadata": {
        "id": "sqfBRXhfVg79",
        "colab_type": "text"
      },
      "source": [
        "__Напоминание теории.__ Операция __умножения__ определена для двух матриц, таких что число столбцов первой равно числу строк второй. \n",
        "\n",
        "Пусть матрицы $A$ и $B$ таковы, что $A \\in \\mathbb{R}^{n \\times k}$ и $B \\in \\mathbb{R}^{k \\times m}$. __Произведением__ матриц $A$ и $B$ называется матрица $C$, такая что $c_{ij} = \\sum_{r=1}^{k} a_{ir}b_{rj}$, где $c_{ij}$ — элемент матрицы $C$, стоящий на пересечении строки с номером $i$ и столбца с номером $j$.\n",
        "\n",
        "В `NumPy` произведение матриц вычисляется с помощью функции __`numpy.dot(a, b, ...)`__ или с помощью _метода_ __`array1.dot(array2)`__, где __`array1`__ и __`array2`__ — перемножаемые матрицы."
      ]
    },
    {
      "cell_type": "code",
      "metadata": {
        "id": "TDG-r4L0Vg79",
        "colab_type": "code",
        "colab": {}
      },
      "source": [
        "a = np.array([[1, 0], [0, 1]])\n",
        "b = np.array([[4, 1], [2, 2]])\n",
        "r1 = np.dot(a, b)\n",
        "r2 = a.dot(b)"
      ],
      "execution_count": null,
      "outputs": []
    },
    {
      "cell_type": "code",
      "metadata": {
        "id": "d8MA9K2EVg7_",
        "colab_type": "code",
        "colab": {},
        "outputId": "308b7cae-8531-4d09-86e9-b7343801d6f0"
      },
      "source": [
        "print \"Матрица A:\\n\", a\n",
        "print \"Матрица B:\\n\", b\n",
        "print \"Результат умножения функцией:\\n\", r1\n",
        "print \"Результат умножения методом:\\n\", r2"
      ],
      "execution_count": null,
      "outputs": [
        {
          "output_type": "stream",
          "text": [
            "Матрица A:\n",
            "[[1 0]\n",
            " [0 1]]\n",
            "Матрица B:\n",
            "[[4 1]\n",
            " [2 2]]\n",
            "Результат умножения функцией:\n",
            "[[4 1]\n",
            " [2 2]]\n",
            "Результат умножения методом:\n",
            "[[4 1]\n",
            " [2 2]]\n"
          ],
          "name": "stdout"
        }
      ]
    },
    {
      "cell_type": "markdown",
      "metadata": {
        "id": "5tXKyCUXVg8B",
        "colab_type": "text"
      },
      "source": [
        "Матрицы в `NumPy` можно умножать и на векторы:"
      ]
    },
    {
      "cell_type": "code",
      "metadata": {
        "id": "FrThagfHVg8B",
        "colab_type": "code",
        "colab": {}
      },
      "source": [
        "c = np.array([1, 2])\n",
        "r3 = b.dot(c)"
      ],
      "execution_count": null,
      "outputs": []
    },
    {
      "cell_type": "code",
      "metadata": {
        "id": "dCUjNOeLVg8D",
        "colab_type": "code",
        "colab": {},
        "outputId": "7d59e93f-b136-41bb-9d16-3b09eed0fabd"
      },
      "source": [
        "print \"Матрица:\\n\", b\n",
        "print \"Вектор:\\n\", c\n",
        "print \"Результат умножения:\\n\", r3"
      ],
      "execution_count": null,
      "outputs": [
        {
          "output_type": "stream",
          "text": [
            "Матрица:\n",
            "[[4 1]\n",
            " [2 2]]\n",
            "Вектор:\n",
            "[1 2]\n",
            "Результат умножения:\n",
            "[6 6]\n"
          ],
          "name": "stdout"
        }
      ]
    },
    {
      "cell_type": "markdown",
      "metadata": {
        "id": "VF7pOD8uVg8F",
        "colab_type": "text"
      },
      "source": [
        "__Обратите внимание:__ операция __`*`__ производит над матрицами покоординатное умножение, а не матричное!"
      ]
    },
    {
      "cell_type": "code",
      "metadata": {
        "id": "Z5Q9X2OUVg8F",
        "colab_type": "code",
        "colab": {}
      },
      "source": [
        "r = a * b"
      ],
      "execution_count": null,
      "outputs": []
    },
    {
      "cell_type": "code",
      "metadata": {
        "scrolled": true,
        "id": "Hx7OyuebVg8H",
        "colab_type": "code",
        "colab": {},
        "outputId": "c1af300b-2d9e-4a8a-a91d-95facbd151ec"
      },
      "source": [
        "print \"Матрица A:\\n\", a\n",
        "print \"Матрица B:\\n\", b\n",
        "print \"Результат покоординатного умножения через операцию *:\\n\", r"
      ],
      "execution_count": null,
      "outputs": [
        {
          "output_type": "stream",
          "text": [
            "Матрица A:\n",
            "[[1 0]\n",
            " [0 1]]\n",
            "Матрица B:\n",
            "[[4 1]\n",
            " [2 2]]\n",
            "Результат покоординатного умножения через операцию *:\n",
            "[[4 0]\n",
            " [0 2]]\n"
          ],
          "name": "stdout"
        }
      ]
    },
    {
      "cell_type": "markdown",
      "metadata": {
        "id": "-aPxAf60Vg8J",
        "colab_type": "text"
      },
      "source": [
        "Более подробно о матричном умножении в `NumPy`\n",
        "см. [документацию](http://docs.scipy.org/doc/numpy-1.10.0/reference/routines.linalg.html#matrix-and-vector-products)."
      ]
    },
    {
      "cell_type": "markdown",
      "metadata": {
        "id": "4VFiH2I8Vg8J",
        "colab_type": "text"
      },
      "source": [
        "## 5. Транспонирование матриц"
      ]
    },
    {
      "cell_type": "markdown",
      "metadata": {
        "id": "Vl3Qa6J4Vg8J",
        "colab_type": "text"
      },
      "source": [
        "__Напоминание теории.__ __Транспонированной матрицей__ $A^{T}$ называется матрица, полученная из исходной матрицы $A$ заменой строк на столбцы. Формально: элементы матрицы $A^{T}$ определяются как $a^{T}_{ij} = a_{ji}$, где $a^{T}_{ij}$ — элемент матрицы $A^{T}$, стоящий на пересечении строки с номером $i$ и столбца с номером $j$.\n",
        "\n",
        "В `NumPy` транспонированная матрица вычисляется с помощью функции __`numpy.transpose()`__ или с помощью _метода_ __`array.T`__, где __`array`__ — нужный двумерный массив.\n"
      ]
    },
    {
      "cell_type": "code",
      "metadata": {
        "id": "vjabG7zPVg8K",
        "colab_type": "code",
        "colab": {}
      },
      "source": [
        "a = np.array([[1, 2], [3, 4]])\n",
        "b = np.transpose(a)\n",
        "c = a.T"
      ],
      "execution_count": null,
      "outputs": []
    },
    {
      "cell_type": "code",
      "metadata": {
        "scrolled": true,
        "id": "yXF9QgPzVg8L",
        "colab_type": "code",
        "colab": {},
        "outputId": "d12d8b2a-8994-48bb-bb3a-7b19f4e23fdb"
      },
      "source": [
        "print \"Матрица:\\n\", a\n",
        "print \"Транспонирование функцией:\\n\", b\n",
        "print \"Транспонирование методом:\\n\",  c"
      ],
      "execution_count": null,
      "outputs": [
        {
          "output_type": "stream",
          "text": [
            "Матрица:\n",
            "[[1 2]\n",
            " [3 4]]\n",
            "Транспонирование функцией:\n",
            "[[1 3]\n",
            " [2 4]]\n",
            "Транспонирование методом:\n",
            "[[1 3]\n",
            " [2 4]]\n"
          ],
          "name": "stdout"
        }
      ]
    },
    {
      "cell_type": "markdown",
      "metadata": {
        "id": "BT7L02JLVg8R",
        "colab_type": "text"
      },
      "source": [
        "См. более подробно о \n",
        "[numpy.transpose()](http://docs.scipy.org/doc/numpy-1.10.0/reference/generated/numpy.transpose.html) и \n",
        "[array.T](http://docs.scipy.org/doc/numpy-1.10.0/reference/generated/numpy.ndarray.T.html) в `NumPy`."
      ]
    },
    {
      "cell_type": "markdown",
      "metadata": {
        "id": "A-mgZB6mVg8R",
        "colab_type": "text"
      },
      "source": [
        "В следующих разделах активно используется модуль __`numpy.linalg`__, реализующий некоторые приложения линейной алгебры. Более подробно о функциях, описанных ниже, и различных других функциях этого модуля можно посмотреть в его [документации](http://docs.scipy.org/doc/numpy-1.10.0/reference/routines.linalg.html#linear-algebra-numpy-linalg)."
      ]
    },
    {
      "cell_type": "markdown",
      "metadata": {
        "id": "j-2fqERWVg8R",
        "colab_type": "text"
      },
      "source": [
        "## 6. Определитель матрицы"
      ]
    },
    {
      "cell_type": "markdown",
      "metadata": {
        "id": "jEgWcNc3Vg8S",
        "colab_type": "text"
      },
      "source": [
        "__Напоминание теории.__ Для квадратных матриц существует понятие __определителя__.\n",
        "\n",
        "Пусть $A$ — квадратная матрица. __Определителем__ (или __детерминантом__) матрицы $A \\in \\mathbb{R}^{n \\times n}$ назовем число \n",
        "\n",
        "$$\\det A = \\sum_{\\alpha_{1}, \\alpha_{2}, \\dots, \\alpha_{n}} (-1)^{N(\\alpha_{1}, \\alpha_{2}, \\dots, \\alpha_{n})} \\cdot a_{\\alpha_{1} 1} \\cdot \\cdot \\cdot a_{\\alpha_{n} n},\n",
        "$$\n",
        "где $\\alpha_{1}, \\alpha_{2}, \\dots, \\alpha_{n}$ — перестановка чисел от $1$ до $n$, $N(\\alpha_{1}, \\alpha_{2}, \\dots, \\alpha_{n})$ — число инверсий в перестановке, суммирование ведется по всем возможным перестановкам длины $n$.\n",
        "\n",
        "_Не стоит расстраиваться, если это определение понятно не до конца — в дальнейшем в таком виде оно не понадобится._\n",
        "\n",
        "Например, для матрицы размера $2 \\times 2$ получается:\n",
        "\n",
        "$$\\det \\left( \\begin{array}{cc} a_{11} & a_{12} \\\\ a_{21} & a_{22}  \\end{array} \\right) = a_{11} a_{22} - a_{12} a_{21}\n",
        "$$\n",
        "\n",
        "\n",
        "Вычисление определителя матрицы по определению требует порядка $n!$ операций, поэтому разработаны методы, которые позволяют вычислять его быстро и эффективно.\n",
        "\n",
        "В `NumPy` определитель матрицы вычисляется с помощью функции __`numpy.linalg.det(a)`__, где __`a`__ — исходная матрица."
      ]
    },
    {
      "cell_type": "code",
      "metadata": {
        "id": "9cIx6aoWVg8S",
        "colab_type": "code",
        "colab": {}
      },
      "source": [
        "a = np.array([[1, 2, 1], [1, 1, 4], [2, 3, 6]], dtype=np.float32)\n",
        "det = np.linalg.det(a)"
      ],
      "execution_count": null,
      "outputs": []
    },
    {
      "cell_type": "code",
      "metadata": {
        "id": "X1nuQLH3Vg8U",
        "colab_type": "code",
        "colab": {},
        "outputId": "dfa490c1-36cc-4043-9f7e-8e73741902aa"
      },
      "source": [
        "print \"Матрица:\\n\", a\n",
        "print \"Определитель:\\n\", det"
      ],
      "execution_count": null,
      "outputs": [
        {
          "output_type": "stream",
          "text": [
            "Матрица:\n",
            "[[ 1.  2.  1.]\n",
            " [ 1.  1.  4.]\n",
            " [ 2.  3.  6.]]\n",
            "Определитель:\n",
            "-1.0\n"
          ],
          "name": "stdout"
        }
      ]
    },
    {
      "cell_type": "markdown",
      "metadata": {
        "id": "XTVpAjcQVg8W",
        "colab_type": "text"
      },
      "source": [
        "Рассмотрим одно интересное свойство определителя. Пусть у нас есть параллелограмм с углами в точках $(0, 0), (c,d), (a+c, b+d), (a, b)$ (углы даны в порядке обхода по часовой стрелке). Тогда площадь этого параллелограмма можно вычислить как модуль определителя матрицы $\\left( \\begin{array}{cc} a & c \\\\ b & d  \\end{array} \\right)$. Похожим образом можно выразить и объем параллелепипеда через определитель матрицы размера $3 \\times 3$."
      ]
    },
    {
      "cell_type": "markdown",
      "metadata": {
        "id": "6LFSV_trVg8W",
        "colab_type": "text"
      },
      "source": [
        "## 7. Ранг матрицы"
      ]
    },
    {
      "cell_type": "markdown",
      "metadata": {
        "id": "HkOpOPrQVg8X",
        "colab_type": "text"
      },
      "source": [
        "__Напоминание теории.__ __Рангом матрицы__ $A$ называется максимальное число линейно независимых строк (столбцов) этой матрицы.\n",
        "\n",
        "В `NumPy` ранг матрицы вычисляется с помощью функции __`numpy.linalg.matrix_rank(M, tol=None)`__, где __`M`__ — матрица, __`tol`__ — параметр, отвечающий за некоторую точность вычисления. В простом случае можно его не задавать, и функция сама определит подходящее значение этого параметра."
      ]
    },
    {
      "cell_type": "code",
      "metadata": {
        "id": "fn9minzqVg8X",
        "colab_type": "code",
        "colab": {}
      },
      "source": [
        "a = np.array([[1, 2, 3], [1, 1, 1], [2, 2, 2]])\n",
        "r = np.linalg.matrix_rank(a)"
      ],
      "execution_count": null,
      "outputs": []
    },
    {
      "cell_type": "code",
      "metadata": {
        "id": "lJS23WReVg8Z",
        "colab_type": "code",
        "colab": {},
        "outputId": "ecedabfc-4627-4865-f503-a497f4534ff1"
      },
      "source": [
        "print \"Матрица:\\n\", a\n",
        "print \"Ранг матрицы:\", r"
      ],
      "execution_count": null,
      "outputs": [
        {
          "output_type": "stream",
          "text": [
            "Матрица:\n",
            "[[1 2 3]\n",
            " [1 1 1]\n",
            " [2 2 2]]\n",
            "Ранг матрицы: 2\n"
          ],
          "name": "stdout"
        }
      ]
    },
    {
      "cell_type": "markdown",
      "metadata": {
        "id": "pZNFugNQVg8b",
        "colab_type": "text"
      },
      "source": [
        "С помощью вычисления ранга матрицы можно проверять линейную независимость системы векторов.\n",
        "\n",
        "Допустим, у нас есть несколько векторов. Составим из них матрицу, где наши векторы будут являться строками. Понятно, что векторы линейно независимы тогда и только тогда, когда ранг полученной матрицы совпадает с числом векторов. Приведем пример:"
      ]
    },
    {
      "cell_type": "code",
      "metadata": {
        "id": "mWvklmCLVg8b",
        "colab_type": "code",
        "colab": {}
      },
      "source": [
        "a = np.array([1, 2, 3])\n",
        "b = np.array([1, 1, 1])\n",
        "c = np.array([2, 3, 5])\n",
        "m = np.array([a, b, c])"
      ],
      "execution_count": null,
      "outputs": []
    },
    {
      "cell_type": "code",
      "metadata": {
        "id": "g5eVYkHCVg8d",
        "colab_type": "code",
        "colab": {},
        "outputId": "56eb98dc-1079-4b26-e956-440c3a0b6cfb"
      },
      "source": [
        "print np.linalg.matrix_rank(m) == m.shape[0]"
      ],
      "execution_count": null,
      "outputs": [
        {
          "output_type": "stream",
          "text": [
            "True\n"
          ],
          "name": "stdout"
        }
      ]
    },
    {
      "cell_type": "markdown",
      "metadata": {
        "id": "EWe8K2DnVg8f",
        "colab_type": "text"
      },
      "source": [
        "## 8. Системы линейных уравнений"
      ]
    },
    {
      "cell_type": "markdown",
      "metadata": {
        "id": "uvHh1gBhVg8g",
        "colab_type": "text"
      },
      "source": [
        "__Напоминание теории.__ __Системой линейных алгебраических уравнений__ называется система вида $Ax = b$, где $A \\in \\mathbb{R}^{n \\times m}, x \\in \\mathbb{R}^{m \\times 1}, b \\in \\mathbb{R}^{n \\times 1}$. В случае квадратной невырожденной матрицы $A$ решение системы единственно.\n",
        "\n",
        "В `NumPy` решение такой системы можно найти с помощью функции __`numpy.linalg.solve(a, b)`__, где первый аргумент — матрица $A$, второй — столбец $b$."
      ]
    },
    {
      "cell_type": "code",
      "metadata": {
        "id": "wtLNDRv3Vg8g",
        "colab_type": "code",
        "colab": {}
      },
      "source": [
        "a = np.array([[3, 1], [1, 2]])\n",
        "b = np.array([9, 8])\n",
        "x = np.linalg.solve(a, b)"
      ],
      "execution_count": null,
      "outputs": []
    },
    {
      "cell_type": "code",
      "metadata": {
        "id": "hkEueReOVg8i",
        "colab_type": "code",
        "colab": {},
        "outputId": "392a889c-5ccb-49f0-859b-87bfc1dab160"
      },
      "source": [
        "print \"Матрица A:\\n\", a\n",
        "print \"Вектор b:\\n\", b\n",
        "print \"Решение системы:\\n\", x"
      ],
      "execution_count": null,
      "outputs": [
        {
          "output_type": "stream",
          "text": [
            "Матрица A:\n",
            "[[3 1]\n",
            " [1 2]]\n",
            "Вектор b:\n",
            "[9 8]\n",
            "Решение системы:\n",
            "[ 2.  3.]\n"
          ],
          "name": "stdout"
        }
      ]
    },
    {
      "cell_type": "markdown",
      "metadata": {
        "id": "ROnD2giOVg8k",
        "colab_type": "text"
      },
      "source": [
        "Убедимся, что вектор __x__ действительно является решением системы:"
      ]
    },
    {
      "cell_type": "code",
      "metadata": {
        "id": "9aRV4_T6Vg8k",
        "colab_type": "code",
        "colab": {},
        "outputId": "cc9cd0ee-abfe-4d46-dbe6-775deed722fc"
      },
      "source": [
        "print a.dot(x)"
      ],
      "execution_count": null,
      "outputs": [
        {
          "output_type": "stream",
          "text": [
            "[ 9.  8.]\n"
          ],
          "name": "stdout"
        }
      ]
    },
    {
      "cell_type": "markdown",
      "metadata": {
        "id": "-kED2NBsVg8m",
        "colab_type": "text"
      },
      "source": [
        "Бывают случаи, когда решение системы не существует. Но хотелось бы все равно \"решить\" такую систему. Логичным кажется искать такой вектор $x$, который минимизирует выражение $\\left\\Vert Ax - b\\right\\Vert^{2}$ — так мы приблизим выражение $Ax$ к $b$.\n",
        "\n",
        "В `NumPy` такое псевдорешение можно искать с помощью функции __`numpy.linalg.lstsq(a, b, ...)`__, где первые два аргумента такие же, как и для функции __`numpy.linalg.solve()`__. \n",
        "Помимо решения функция возвращает еще три значения, которые нам сейчас не понадобятся."
      ]
    },
    {
      "cell_type": "code",
      "metadata": {
        "id": "F5gDy-XIVg8m",
        "colab_type": "code",
        "colab": {}
      },
      "source": [
        "a = np.array([[0, 1], [1, 1], [2, 1], [3, 1]])\n",
        "b = np.array([-1, 0.2, 0.9, 2.1])\n",
        "x, res, r, s = np.linalg.lstsq(a, b)"
      ],
      "execution_count": null,
      "outputs": []
    },
    {
      "cell_type": "code",
      "metadata": {
        "id": "ewWpLaRIVg8o",
        "colab_type": "code",
        "colab": {},
        "outputId": "a042d41d-5632-4cea-e2e0-6c3c9c0d52ce"
      },
      "source": [
        "print \"Матрица A:\\n\", a\n",
        "print \"Вектор b:\\n\", b\n",
        "print \"Псевдорешение системы:\\n\", x"
      ],
      "execution_count": null,
      "outputs": [
        {
          "output_type": "stream",
          "text": [
            "Матрица A:\n",
            "[[0 1]\n",
            " [1 1]\n",
            " [2 1]\n",
            " [3 1]]\n",
            "Вектор b:\n",
            "[-1.   0.2  0.9  2.1]\n",
            "Псевдорешение системы:\n",
            "[ 1.   -0.95]\n"
          ],
          "name": "stdout"
        }
      ]
    },
    {
      "cell_type": "markdown",
      "metadata": {
        "id": "7q2XZ-tWVg8q",
        "colab_type": "text"
      },
      "source": [
        "## 9. Обращение матриц"
      ]
    },
    {
      "cell_type": "markdown",
      "metadata": {
        "id": "QkcFGd3GVg8r",
        "colab_type": "text"
      },
      "source": [
        "__Напоминание теории.__  Для квадратных невырожденных матриц определено понятие __обратной__ матрицы. \n",
        "\n",
        "Пусть $A$ — квадратная невырожденная матрица. Матрица $A^{-1}$ называется __обратной матрицей__ к $A$, если \n",
        "\n",
        "$$AA^{-1} = A^{-1}A = I,\n",
        "$$ \n",
        "\n",
        "где $I$ — единичная матрица.\n",
        "\n",
        "В `NumPy` обратные матрицы вычисляются с помощью функции __`numpy.linalg.inv(a)`__, где __`a`__ — исходная матрица."
      ]
    },
    {
      "cell_type": "code",
      "metadata": {
        "id": "1imxXPLwVg8r",
        "colab_type": "code",
        "colab": {}
      },
      "source": [
        "a = np.array([[1, 2, 1], [1, 1, 4], [2, 3, 6]], dtype=np.float32)\n",
        "b = np.linalg.inv(a)"
      ],
      "execution_count": null,
      "outputs": []
    },
    {
      "cell_type": "code",
      "metadata": {
        "id": "lgYrYzVvVg8t",
        "colab_type": "code",
        "colab": {},
        "outputId": "ca91618c-57ca-466b-ccf0-bb4aacbd42aa"
      },
      "source": [
        "print \"Матрица A:\\n\", a\n",
        "print \"Обратная матрица к A:\\n\", b\n",
        "print \"Произведение A на обратную должна быть единичной:\\n\", a.dot(b)"
      ],
      "execution_count": null,
      "outputs": [
        {
          "output_type": "stream",
          "text": [
            "Матрица A:\n",
            "[[ 1.  2.  1.]\n",
            " [ 1.  1.  4.]\n",
            " [ 2.  3.  6.]]\n",
            "Обратная матрица к A:\n",
            "[[ 6.  9. -7.]\n",
            " [-2. -4.  3.]\n",
            " [-1. -1.  1.]]\n",
            "Произведение A на обратную должна быть единичной:\n",
            "[[ 1.  0.  0.]\n",
            " [ 0.  1.  0.]\n",
            " [ 0.  0.  1.]]\n"
          ],
          "name": "stdout"
        }
      ]
    },
    {
      "cell_type": "markdown",
      "metadata": {
        "id": "HR3yoTIyVg8w",
        "colab_type": "text"
      },
      "source": [
        "## 10. Собственные числа и собственные вектора матрицы"
      ]
    },
    {
      "cell_type": "markdown",
      "metadata": {
        "id": "X2hti0MzVg8w",
        "colab_type": "text"
      },
      "source": [
        "__Напоминание теории.__ Для квадратных матриц определены понятия __собственного вектора__ и __собственного числа__.\n",
        "\n",
        "Пусть $A$ — квадратная матрица и $A \\in \\mathbb{R}^{n \\times n}$. __Собственным вектором__ матрицы $A$ называется такой ненулевой вектор $x \\in \\mathbb{R}^{n}$, что для некоторого $\\lambda \\in \\mathbb{R}$ выполняется равенство $Ax = \\lambda x$. При этом $\\lambda$ называется __собственным числом__ матрицы $A$. Собственные числа и собственные векторы матрицы играют важную роль в теории линейной алгебры и ее практических приложениях.\n",
        "\n",
        "В `NumPy` собственные числа и собственные векторы матрицы вычисляются с помощью функции __`numpy.linalg.eig(a)`__, где __`a`__ — исходная матрица. В качестве результата эта функция выдает одномерный массив __`w`__ собственных чисел и двумерный массив __`v`__, в котором по столбцам записаны собственные вектора, так что вектор __`v[:, i]`__ соотвествует собственному числу __`w[i]`__."
      ]
    },
    {
      "cell_type": "code",
      "metadata": {
        "id": "WP37cCYOVg8x",
        "colab_type": "code",
        "colab": {}
      },
      "source": [
        "a = np.array([[-1, -6], [2, 6]])\n",
        "w, v = np.linalg.eig(a)"
      ],
      "execution_count": null,
      "outputs": []
    },
    {
      "cell_type": "code",
      "metadata": {
        "id": "idhYEEKAVg8y",
        "colab_type": "code",
        "colab": {},
        "outputId": "5258a708-5035-4ca7-f473-bfa5d2ed589f"
      },
      "source": [
        "print \"Матрица A:\\n\", a\n",
        "print \"Собственные числа:\\n\", w\n",
        "print \"Собственные векторы:\\n\", v"
      ],
      "execution_count": null,
      "outputs": [
        {
          "output_type": "stream",
          "text": [
            "Матрица A:\n",
            "[[-1 -6]\n",
            " [ 2  6]]\n",
            "Собственные числа:\n",
            "[ 2.  3.]\n",
            "Собственные векторы:\n",
            "[[-0.89442719  0.83205029]\n",
            " [ 0.4472136  -0.5547002 ]]\n"
          ],
          "name": "stdout"
        }
      ]
    },
    {
      "cell_type": "markdown",
      "metadata": {
        "id": "x-MAD1fsVg80",
        "colab_type": "text"
      },
      "source": [
        "__Обратите внимание:__ у вещественной матрицы собственные значения или собственные векторы могут быть комплексными."
      ]
    },
    {
      "cell_type": "markdown",
      "metadata": {
        "id": "VumR8UbHVg81",
        "colab_type": "text"
      },
      "source": [
        "## 11. Комплексные числа в питоне"
      ]
    },
    {
      "cell_type": "markdown",
      "metadata": {
        "id": "gI5XZIlTVg81",
        "colab_type": "text"
      },
      "source": [
        "__Внимание: данный материал является дополнительным — его изучение не является необходимым для выполнения тестов.__"
      ]
    },
    {
      "cell_type": "markdown",
      "metadata": {
        "id": "w5yhyWpOVg81",
        "colab_type": "text"
      },
      "source": [
        "__Напоминание теории.__ __Комплексными числами__ называются числа вида $x + iy$, где $x$ и $y$ — вещественные числа, а $i$ — мнимая единица (величина, для которой выполняется равенство $i^{2} = -1$). Множество всех комплексных чисел обозначается буквой $\\mathbb{C}$ (подробнее про комплексные числа см. [википедию](https://ru.wikipedia.org/wiki/%D0%9A%D0%BE%D0%BC%D0%BF%D0%BB%D0%B5%D0%BA%D1%81%D0%BD%D0%BE%D0%B5_%D1%87%D0%B8%D1%81%D0%BB%D0%BE))."
      ]
    },
    {
      "cell_type": "markdown",
      "metadata": {
        "id": "X-i2b361Vg81",
        "colab_type": "text"
      },
      "source": [
        "В питоне комплескные числа можно задать следующим образом (__j__ обозначает мнимую единицу):"
      ]
    },
    {
      "cell_type": "code",
      "metadata": {
        "id": "wdMFbf9-Vg82",
        "colab_type": "code",
        "colab": {}
      },
      "source": [
        "a = 3 + 2j\n",
        "b = 1j"
      ],
      "execution_count": null,
      "outputs": []
    },
    {
      "cell_type": "code",
      "metadata": {
        "id": "YZtUCXDRVg84",
        "colab_type": "code",
        "colab": {},
        "outputId": "024fa3b8-95a6-469b-96d7-b65a932aa960"
      },
      "source": [
        "print \"Комплексное число a:\\n\", a\n",
        "print \"Комплексное число b:\\n\", b"
      ],
      "execution_count": null,
      "outputs": [
        {
          "output_type": "stream",
          "text": [
            "Комплексное число a:\n",
            "(3+2j)\n",
            "Комплексное число b:\n",
            "1j\n"
          ],
          "name": "stdout"
        }
      ]
    },
    {
      "cell_type": "markdown",
      "metadata": {
        "id": "iWKZVg-WVg86",
        "colab_type": "text"
      },
      "source": [
        "С комплексными числами в питоне можно производить базовые арифметические операции так же, как и с вещественными числами:"
      ]
    },
    {
      "cell_type": "code",
      "metadata": {
        "id": "cqgmS59qVg86",
        "colab_type": "code",
        "colab": {}
      },
      "source": [
        "c = a * a\n",
        "d = a / (4 - 5j)"
      ],
      "execution_count": null,
      "outputs": []
    },
    {
      "cell_type": "code",
      "metadata": {
        "id": "VgQ7cBmdVg88",
        "colab_type": "code",
        "colab": {},
        "outputId": "7574b2f5-f544-498a-fe90-787a5f9d88d5"
      },
      "source": [
        "print \"Комплексное число c:\\n\", c\n",
        "print \"Комплексное число d:\\n\", d"
      ],
      "execution_count": null,
      "outputs": [
        {
          "output_type": "stream",
          "text": [
            "Комплексное число c:\n",
            "(5+12j)\n",
            "Комплексное число d:\n",
            "(0.0487804878049+0.560975609756j)\n"
          ],
          "name": "stdout"
        }
      ]
    }
  ]
}