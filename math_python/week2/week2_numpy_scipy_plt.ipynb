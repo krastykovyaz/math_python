{
  "nbformat": 4,
  "nbformat_minor": 0,
  "metadata": {
    "kernelspec": {
      "display_name": "Python 3",
      "language": "python",
      "name": "python3"
    },
    "language_info": {
      "codemirror_mode": {
        "name": "ipython",
        "version": 3
      },
      "file_extension": ".py",
      "mimetype": "text/x-python",
      "name": "python",
      "nbconvert_exporter": "python",
      "pygments_lexer": "ipython3",
      "version": "3.6.1"
    },
    "colab": {
      "name": "week2_numpy_scipy_plt.ipynb",
      "provenance": []
    }
  },
  "cells": [
    {
      "cell_type": "markdown",
      "metadata": {
        "id": "VGLlgd5C6Msn",
        "colab_type": "text"
      },
      "source": [
        "Первое знакомство с NumPy, SciPy, Matplotlib\n",
        "\n",
        "\n"
      ]
    },
    {
      "cell_type": "markdown",
      "metadata": {
        "id": "Yita7DLC6Msn",
        "colab_type": "text"
      },
      "source": [
        "## Numpy\n",
        "работа с матрицами, для высокопроизводительных вычислений\n",
        "\n"
      ]
    },
    {
      "cell_type": "code",
      "metadata": {
        "id": "jAZXlUVp6Mso",
        "colab_type": "code",
        "colab": {}
      },
      "source": [
        "import numpy as np"
      ],
      "execution_count": null,
      "outputs": []
    },
    {
      "cell_type": "code",
      "metadata": {
        "id": "Ua-9H8mC6Msr",
        "colab_type": "code",
        "colab": {}
      },
      "source": [
        "x = [2, 3, 4, 6]\n",
        "y = np.array(x)"
      ],
      "execution_count": null,
      "outputs": []
    },
    {
      "cell_type": "code",
      "metadata": {
        "id": "Vq_fS4Ra6Mst",
        "colab_type": "code",
        "colab": {
          "base_uri": "https://localhost:8080/",
          "height": 51
        },
        "outputId": "f2476d57-36e1-469d-b644-1921914e14b0"
      },
      "source": [
        "print (type(x), x)\n",
        "print (type(y), y)"
      ],
      "execution_count": null,
      "outputs": [
        {
          "output_type": "stream",
          "text": [
            "<class 'list'> [2, 3, 4, 6]\n",
            "<class 'numpy.ndarray'> [2 3 4 6]\n"
          ],
          "name": "stdout"
        }
      ]
    },
    {
      "cell_type": "code",
      "metadata": {
        "id": "x56vExH16Msw",
        "colab_type": "code",
        "colab": {
          "base_uri": "https://localhost:8080/",
          "height": 34
        },
        "outputId": "f8ddfd96-ef5c-4d8a-a609-b8250dfc60aa"
      },
      "source": [
        "print (x[1:3])"
      ],
      "execution_count": 6,
      "outputs": [
        {
          "output_type": "stream",
          "text": [
            "[3, 4]\n"
          ],
          "name": "stdout"
        }
      ]
    },
    {
      "cell_type": "code",
      "metadata": {
        "id": "rVvZtGLB6Msy",
        "colab_type": "code",
        "colab": {
          "base_uri": "https://localhost:8080/",
          "height": 34
        },
        "outputId": "eaf331ea-3976-43d3-9c7b-456dda3a0628"
      },
      "source": [
        "print (y[1:3])"
      ],
      "execution_count": 7,
      "outputs": [
        {
          "output_type": "stream",
          "text": [
            "[3 4]\n"
          ],
          "name": "stdout"
        }
      ]
    },
    {
      "cell_type": "code",
      "metadata": {
        "id": "oO3XLZgX6Ms0",
        "colab_type": "code",
        "colab": {
          "base_uri": "https://localhost:8080/",
          "height": 164
        },
        "outputId": "26413583-168e-4f12-c13b-92985a413cef"
      },
      "source": [
        "print (x[[0, 2]])"
      ],
      "execution_count": 8,
      "outputs": [
        {
          "output_type": "error",
          "ename": "TypeError",
          "evalue": "ignored",
          "traceback": [
            "\u001b[0;31m---------------------------------------------------------------------------\u001b[0m",
            "\u001b[0;31mTypeError\u001b[0m                                 Traceback (most recent call last)",
            "\u001b[0;32m<ipython-input-8-025e586daf6b>\u001b[0m in \u001b[0;36m<module>\u001b[0;34m()\u001b[0m\n\u001b[0;32m----> 1\u001b[0;31m \u001b[0mprint\u001b[0m \u001b[0;34m(\u001b[0m\u001b[0mx\u001b[0m\u001b[0;34m[\u001b[0m\u001b[0;34m[\u001b[0m\u001b[0;36m0\u001b[0m\u001b[0;34m,\u001b[0m \u001b[0;36m2\u001b[0m\u001b[0;34m]\u001b[0m\u001b[0;34m]\u001b[0m\u001b[0;34m)\u001b[0m\u001b[0;34m\u001b[0m\u001b[0;34m\u001b[0m\u001b[0m\n\u001b[0m",
            "\u001b[0;31mTypeError\u001b[0m: list indices must be integers or slices, not list"
          ]
        }
      ]
    },
    {
      "cell_type": "code",
      "metadata": {
        "id": "CdN0F0kG6Ms2",
        "colab_type": "code",
        "colab": {
          "base_uri": "https://localhost:8080/",
          "height": 34
        },
        "outputId": "1dc48d95-2b94-4d88-ec4e-eb3b42d350ec"
      },
      "source": [
        "print (y[[0, 2]]) #nympy array works"
      ],
      "execution_count": 9,
      "outputs": [
        {
          "output_type": "stream",
          "text": [
            "[2 4]\n"
          ],
          "name": "stdout"
        }
      ]
    },
    {
      "cell_type": "code",
      "metadata": {
        "id": "D38LQ9xu6Ms5",
        "colab_type": "code",
        "colab": {
          "base_uri": "https://localhost:8080/",
          "height": 34
        },
        "outputId": "bcde7e13-bdb4-456b-b53c-b4684f0762bc"
      },
      "source": [
        "print (y[y>3]) #logic operations (true in conditions)"
      ],
      "execution_count": 10,
      "outputs": [
        {
          "output_type": "stream",
          "text": [
            "[4 6]\n"
          ],
          "name": "stdout"
        }
      ]
    },
    {
      "cell_type": "code",
      "metadata": {
        "id": "cdJODz5E6Ms8",
        "colab_type": "code",
        "colab": {
          "base_uri": "https://localhost:8080/",
          "height": 34
        },
        "outputId": "8416a4ad-546d-4c2c-863e-5bfce843292f"
      },
      "source": [
        "print (x * 5) #repeat 5 times"
      ],
      "execution_count": 11,
      "outputs": [
        {
          "output_type": "stream",
          "text": [
            "[2, 3, 4, 6, 2, 3, 4, 6, 2, 3, 4, 6, 2, 3, 4, 6, 2, 3, 4, 6]\n"
          ],
          "name": "stdout"
        }
      ]
    },
    {
      "cell_type": "code",
      "metadata": {
        "id": "BfBtcNvi6Ms-",
        "colab_type": "code",
        "colab": {
          "base_uri": "https://localhost:8080/",
          "height": 34
        },
        "outputId": "3dca447a-5150-40e1-f2dc-9ff98a7e7e18"
      },
      "source": [
        "print (y * 5) #mult to 5"
      ],
      "execution_count": 12,
      "outputs": [
        {
          "output_type": "stream",
          "text": [
            "[10 15 20 30]\n"
          ],
          "name": "stdout"
        }
      ]
    },
    {
      "cell_type": "code",
      "metadata": {
        "id": "CvMjZqmx6MtA",
        "colab_type": "code",
        "colab": {
          "base_uri": "https://localhost:8080/",
          "height": 34
        },
        "outputId": "6b1c2ddc-bddd-40bd-febd-01c80472ebd5"
      },
      "source": [
        "print (x ** 2)"
      ],
      "execution_count": 50,
      "outputs": [
        {
          "output_type": "stream",
          "text": [
            "[ 0  4 16 36 64]\n"
          ],
          "name": "stdout"
        }
      ]
    },
    {
      "cell_type": "code",
      "metadata": {
        "id": "0trL7OGz6MtD",
        "colab_type": "code",
        "colab": {
          "base_uri": "https://localhost:8080/",
          "height": 34
        },
        "outputId": "63c9d96f-3fb4-4c6b-90ab-f43c20f05f05"
      },
      "source": [
        "print (y ** 2)"
      ],
      "execution_count": 13,
      "outputs": [
        {
          "output_type": "stream",
          "text": [
            "[ 4  9 16 36]\n"
          ],
          "name": "stdout"
        }
      ]
    },
    {
      "cell_type": "code",
      "metadata": {
        "id": "CRAo-1mz6MtF",
        "colab_type": "code",
        "colab": {}
      },
      "source": [
        "matrix = [[1, 2, 4], [3, 1, 0]] #general \n",
        "nd_array = np.array(matrix) #numpy"
      ],
      "execution_count": 17,
      "outputs": []
    },
    {
      "cell_type": "code",
      "metadata": {
        "id": "kcXX5CUM6MtH",
        "colab_type": "code",
        "colab": {
          "base_uri": "https://localhost:8080/",
          "height": 34
        },
        "outputId": "fc37f4f3-adb7-4eb0-957a-c6f617912c45"
      },
      "source": [
        "print (matrix[1][2]) #choose array with [1] aind inside of array [2] = \"0\""
      ],
      "execution_count": 18,
      "outputs": [
        {
          "output_type": "stream",
          "text": [
            "0\n"
          ],
          "name": "stdout"
        }
      ]
    },
    {
      "cell_type": "code",
      "metadata": {
        "id": "GAPLx2Rk6MtJ",
        "colab_type": "code",
        "colab": {
          "base_uri": "https://localhost:8080/",
          "height": 34
        },
        "outputId": "b22bfb94-1a0e-43a7-c97b-94e7939bbe67"
      },
      "source": [
        "print (nd_array[1, 2]) #choose array with [1] aind inside of array [2] = \"0\""
      ],
      "execution_count": 19,
      "outputs": [
        {
          "output_type": "stream",
          "text": [
            "0\n"
          ],
          "name": "stdout"
        }
      ]
    },
    {
      "cell_type": "code",
      "metadata": {
        "id": "wjgxGZnr6MtL",
        "colab_type": "code",
        "colab": {
          "base_uri": "https://localhost:8080/",
          "height": 34
        },
        "outputId": "aab20460-a920-4cad-e1e5-2d54c61afc7b"
      },
      "source": [
        "print (np.random.rand()) "
      ],
      "execution_count": 21,
      "outputs": [
        {
          "output_type": "stream",
          "text": [
            "0.6885790098753797\n"
          ],
          "name": "stdout"
        }
      ]
    },
    {
      "cell_type": "code",
      "metadata": {
        "id": "UXeU3CPx6MtM",
        "colab_type": "code",
        "colab": {},
        "outputId": "50671f8b-43d0-49dd-84b9-50e3388e0510"
      },
      "source": [
        "print (np.random.randn())"
      ],
      "execution_count": null,
      "outputs": [
        {
          "output_type": "stream",
          "text": [
            "-0.511813938677\n"
          ],
          "name": "stdout"
        }
      ]
    },
    {
      "cell_type": "code",
      "metadata": {
        "id": "CMopMUKU6MtP",
        "colab_type": "code",
        "colab": {},
        "outputId": "7ef11b21-d16b-458f-e2e9-86ae4f1cf660"
      },
      "source": [
        "print np.random.randn(4) #gen four numbers"
      ],
      "execution_count": null,
      "outputs": [
        {
          "output_type": "stream",
          "text": [
            "[-1.42291178  0.67413655  1.34859743 -1.36775309]\n"
          ],
          "name": "stdout"
        }
      ]
    },
    {
      "cell_type": "code",
      "metadata": {
        "id": "ZRKIP4Of6MtR",
        "colab_type": "code",
        "colab": {},
        "outputId": "9ef2816b-1287-43c4-9576-e142f0798e15"
      },
      "source": [
        "print np.random.randn(4, 5) #gen matrix"
      ],
      "execution_count": null,
      "outputs": [
        {
          "output_type": "stream",
          "text": [
            "[[-0.82076944 -0.57758927  0.35274212 -0.90060401  0.3356505 ]\n",
            " [-0.06885306 -0.55435176  0.44261636 -0.67454043 -0.98557812]\n",
            " [ 1.63089984  0.52053926 -1.39521558  0.64451813  0.30286612]\n",
            " [-0.25467814  0.67001453  0.2518447  -0.11396418 -0.59441236]]\n"
          ],
          "name": "stdout"
        }
      ]
    },
    {
      "cell_type": "code",
      "metadata": {
        "id": "LHS5jBo56MtT",
        "colab_type": "code",
        "colab": {},
        "outputId": "7c0e2de6-d149-43b6-ceed-fd2639a09241"
      },
      "source": [
        "print np.arange(0, 8, 0.1) #0.1 size of step (numpy)"
      ],
      "execution_count": null,
      "outputs": [
        {
          "output_type": "stream",
          "text": [
            "[ 0.   0.1  0.2  0.3  0.4  0.5  0.6  0.7  0.8  0.9  1.   1.1  1.2  1.3  1.4\n",
            "  1.5  1.6  1.7  1.8  1.9  2.   2.1  2.2  2.3  2.4  2.5  2.6  2.7  2.8  2.9\n",
            "  3.   3.1  3.2  3.3  3.4  3.5  3.6  3.7  3.8  3.9  4.   4.1  4.2  4.3  4.4\n",
            "  4.5  4.6  4.7  4.8  4.9  5.   5.1  5.2  5.3  5.4  5.5  5.6  5.7  5.8  5.9\n",
            "  6.   6.1  6.2  6.3  6.4  6.5  6.6  6.7  6.8  6.9  7.   7.1  7.2  7.3  7.4\n",
            "  7.5  7.6  7.7  7.8  7.9]\n"
          ],
          "name": "stdout"
        }
      ]
    },
    {
      "cell_type": "code",
      "metadata": {
        "id": "nuUlKTsq6MtV",
        "colab_type": "code",
        "colab": {
          "base_uri": "https://localhost:8080/",
          "height": 130
        },
        "outputId": "5bf1badf-76ab-4c68-9718-73538b804bdb"
      },
      "source": [
        "print range(0, 8, 0.1) "
      ],
      "execution_count": 51,
      "outputs": [
        {
          "output_type": "error",
          "ename": "SyntaxError",
          "evalue": "ignored",
          "traceback": [
            "\u001b[0;36m  File \u001b[0;32m\"<ipython-input-51-28019fc53e86>\"\u001b[0;36m, line \u001b[0;32m1\u001b[0m\n\u001b[0;31m    print range(0, 8, 0.1)\u001b[0m\n\u001b[0m              ^\u001b[0m\n\u001b[0;31mSyntaxError\u001b[0m\u001b[0;31m:\u001b[0m invalid syntax\n"
          ]
        }
      ]
    },
    {
      "cell_type": "code",
      "metadata": {
        "id": "KUI3_7Nk6MtX",
        "colab_type": "code",
        "colab": {
          "base_uri": "https://localhost:8080/",
          "height": 85
        },
        "outputId": "e7134815-986f-4f3d-80aa-8d094b98e3cc"
      },
      "source": [
        "%timeit np.arange(0, 10000) #recent execute time and check the time\n",
        "%timeit range(0, 10000)"
      ],
      "execution_count": 22,
      "outputs": [
        {
          "output_type": "stream",
          "text": [
            "The slowest run took 12.99 times longer than the fastest. This could mean that an intermediate result is being cached.\n",
            "100000 loops, best of 3: 12.3 µs per loop\n",
            "The slowest run took 6.45 times longer than the fastest. This could mean that an intermediate result is being cached.\n",
            "1000000 loops, best of 3: 218 ns per loop\n"
          ],
          "name": "stdout"
        }
      ]
    },
    {
      "cell_type": "markdown",
      "metadata": {
        "id": "2VFUhcQA6MtZ",
        "colab_type": "text"
      },
      "source": [
        "## SciPy\n",
        "задачи оптимизации, линейной алгебры, теорвер\n"
      ]
    },
    {
      "cell_type": "code",
      "metadata": {
        "id": "2ue1oqB06MtZ",
        "colab_type": "code",
        "colab": {}
      },
      "source": [
        "from scipy import optimize #модуль оптимайз"
      ],
      "execution_count": 26,
      "outputs": []
    },
    {
      "cell_type": "code",
      "metadata": {
        "id": "oKuWzCq96Mtb",
        "colab_type": "code",
        "colab": {
          "base_uri": "https://localhost:8080/",
          "height": 34
        },
        "outputId": "7ae2fe0e-b7f0-4e35-dcc7-3af30cc874e5"
      },
      "source": [
        "def f(x): #массив Х\n",
        "    return (x[0] - 3.2) ** 2 + (x[1] - 0.1) ** 2 + 3\n",
        "\n",
        "print (f([3.2, 0.1]))"
      ],
      "execution_count": 27,
      "outputs": [
        {
          "output_type": "stream",
          "text": [
            "3.0\n"
          ],
          "name": "stdout"
        }
      ]
    },
    {
      "cell_type": "code",
      "metadata": {
        "id": "k4kWdPub6Mtd",
        "colab_type": "code",
        "colab": {
          "base_uri": "https://localhost:8080/",
          "height": 204
        },
        "outputId": "90fd9238-0dbd-404e-efc4-a9a450450bba"
      },
      "source": [
        "x_min = optimize.minimize(f, [5, 5]) #вектор с которого начнется оптимизационный процесс (начальное приближение)\n",
        "print (x_min)"
      ],
      "execution_count": 28,
      "outputs": [
        {
          "output_type": "stream",
          "text": [
            "      fun: 3.0000000000011435\n",
            " hess_inv: array([[ 0.94055055, -0.16183475],\n",
            "       [-0.16183475,  0.55944947]])\n",
            "      jac: array([-2.05636024e-06,  5.36441803e-07])\n",
            "  message: 'Optimization terminated successfully.'\n",
            "     nfev: 16\n",
            "      nit: 3\n",
            "     njev: 4\n",
            "   status: 0\n",
            "  success: True\n",
            "        x: array([3.19999896, 0.10000026])\n"
          ],
          "name": "stdout"
        }
      ]
    },
    {
      "cell_type": "code",
      "metadata": {
        "id": "T_jfGOEm6Mtf",
        "colab_type": "code",
        "colab": {
          "base_uri": "https://localhost:8080/",
          "height": 34
        },
        "outputId": "a057051b-f4e6-4c88-8791-fca5b23e8fd4"
      },
      "source": [
        "print (x_min.x)"
      ],
      "execution_count": 29,
      "outputs": [
        {
          "output_type": "stream",
          "text": [
            "[3.19999896 0.10000026]\n"
          ],
          "name": "stdout"
        }
      ]
    },
    {
      "cell_type": "code",
      "metadata": {
        "id": "eDyDI-Ju6Mth",
        "colab_type": "code",
        "colab": {}
      },
      "source": [
        "from scipy import linalg #модуль для линейной алгебры"
      ],
      "execution_count": 31,
      "outputs": []
    },
    {
      "cell_type": "code",
      "metadata": {
        "id": "PC_Zxfu86Mtj",
        "colab_type": "code",
        "colab": {
          "base_uri": "https://localhost:8080/",
          "height": 34
        },
        "outputId": "08125ca0-4812-4ec7-88f2-1380a18664b6"
      },
      "source": [
        "a = np.array([[3, 2, 0], [1, -1, 0], [0, 5, 1]]) #set matrix\n",
        "b = np.array([2, 4, -1]) #на какое значение нужно умножить матрицу, чтобы получить этот ответ?\n",
        "\n",
        "x = linalg.solve(a, b)\n",
        "print (x)"
      ],
      "execution_count": 32,
      "outputs": [
        {
          "output_type": "stream",
          "text": [
            "[ 2. -2.  9.]\n"
          ],
          "name": "stdout"
        }
      ]
    },
    {
      "cell_type": "code",
      "metadata": {
        "id": "YpQCn9li6Mtl",
        "colab_type": "code",
        "colab": {}
      },
      "source": [
        "print np.dot(a, x)"
      ],
      "execution_count": null,
      "outputs": []
    },
    {
      "cell_type": "code",
      "metadata": {
        "id": "KmlYvSMX6Mtn",
        "colab_type": "code",
        "colab": {}
      },
      "source": [
        "#сингулярное разложение\n",
        "X = np.random.randn(4, 3) #сгенерировали матрицу из рандомных\n",
        "U, D, V = linalg.svd(X) #сделали разложение\n",
        "print U.shape, D.shape, V.shape #чекнули размеры\n",
        "print type(U), type(D), type(V)"
      ],
      "execution_count": null,
      "outputs": []
    },
    {
      "cell_type": "markdown",
      "metadata": {
        "id": "7ss0sE3_6Mtp",
        "colab_type": "text"
      },
      "source": [
        "## Matplotlib\n",
        "работа с графиками\n"
      ]
    },
    {
      "cell_type": "code",
      "metadata": {
        "id": "gh09Uc-z6Mtp",
        "colab_type": "code",
        "colab": {}
      },
      "source": [
        "%matplotlib inline"
      ],
      "execution_count": null,
      "outputs": []
    },
    {
      "cell_type": "code",
      "metadata": {
        "id": "oUoOpvAC6Mtr",
        "colab_type": "code",
        "colab": {
          "base_uri": "https://localhost:8080/",
          "height": 265
        },
        "outputId": "604b297a-1983-4c82-8997-5287c64dc0d1"
      },
      "source": [
        "from matplotlib import pylab as plt\n",
        "\n",
        "plt.plot([1, 2, 3, 4], [1, 4, 9, 16]) #первое значение Х, второе значение У\n",
        "plt.show()"
      ],
      "execution_count": 33,
      "outputs": [
        {
          "output_type": "display_data",
          "data": {
            "image/png": "[encoded data removed]",
            "text/plain": [
              "<Figure size 432x288 with 1 Axes>"
            ]
          },
          "metadata": {
            "tags": [],
            "needs_background": "light"
          }
        }
      ]
    },
    {
      "cell_type": "code",
      "metadata": {
        "id": "3k8CjSCV6Mtu",
        "colab_type": "code",
        "colab": {},
        "outputId": "5dfae231-815d-4b57-8764-6e379c9d56e5"
      },
      "source": [
        "#понадобится нампи\n",
        "x = np.arange(-10, 10, 0.1) #массив значений Х от 10 до 10 с шагом 0,1\n",
        "y = x ** 3 #каждый Х возвели в куб и получили У\n",
        "plt.plot(x, y)\n",
        "plt.show()"
      ],
      "execution_count": null,
      "outputs": [
        {
          "output_type": "display_data",
          "data": {
            "image/png": "[encoded data removed]",
            "text/plain": [
              "<matplotlib.figure.Figure at 0x107123190>"
            ]
          },
          "metadata": {
            "tags": []
          }
        }
      ]
    },
    {
      "cell_type": "markdown",
      "metadata": {
        "id": "Rjhgtjej6Mtw",
        "colab_type": "text"
      },
      "source": [
        "##All nes. modules from Libraries"
      ]
    },
    {
      "cell_type": "code",
      "metadata": {
        "id": "0bXOsIHu6Mtw",
        "colab_type": "code",
        "colab": {}
      },
      "source": [
        "%matplotlib inline\n",
        "import numpy as np\n",
        "import matplotlib.pyplot as plt\n",
        "from scipy import interpolate #по известным значением функции приблизить промежуточные значения"
      ],
      "execution_count": 34,
      "outputs": []
    },
    {
      "cell_type": "code",
      "metadata": {
        "id": "_CJ1F3tc6Mty",
        "colab_type": "code",
        "colab": {
          "base_uri": "https://localhost:8080/",
          "height": 51
        },
        "outputId": "b960de18-4fa3-49d9-a5ae-25774e78c1a1"
      },
      "source": [
        "x = np.arange(0, 10, 2)\n",
        "y = np.exp(-x/3.0) + np.random.randn(len(x)) * 0.05 #внимательно при деление на целые и дробные + шум np.random.randn(len(x)) * 0.05 (по длине массива Х)\n",
        "\n",
        "print (x[:5])\n",
        "print (y[:5])"
      ],
      "execution_count": 47,
      "outputs": [
        {
          "output_type": "stream",
          "text": [
            "[0 2 4 6 8]\n",
            "[ 0.94525329  0.45793157  0.20360039  0.03885733 -0.01046956]\n"
          ],
          "name": "stdout"
        }
      ]
    },
    {
      "cell_type": "code",
      "metadata": {
        "id": "WXZWULMM6Mtz",
        "colab_type": "code",
        "colab": {}
      },
      "source": [
        "f = interpolate.interp1d(x, y, kind='quadratic')\n",
        "xnew = np.arange(0, 8, 0.1)\n",
        "ynew = f(xnew)"
      ],
      "execution_count": 48,
      "outputs": []
    },
    {
      "cell_type": "code",
      "metadata": {
        "id": "jN4ABMa46Mt1",
        "colab_type": "code",
        "colab": {
          "base_uri": "https://localhost:8080/",
          "height": 265
        },
        "outputId": "d3cf4343-6f43-441c-d424-bf58695579dd"
      },
      "source": [
        "plt.plot(x, y, 'o', xnew, ynew, '-') #синие точки известные значения функции, оранжевые - приближение\n",
        "plt.show()"
      ],
      "execution_count": 49,
      "outputs": [
        {
          "output_type": "display_data",
          "data": {
            "image/png": "[encoded data removed]",
            "text/plain": [
              "<Figure size 432x288 with 1 Axes>"
            ]
          },
          "metadata": {
            "tags": [],
            "needs_background": "light"
          }
        }
      ]
    },
    {
      "cell_type": "code",
      "metadata": {
        "id": "YVL8AAhJ6Mt3",
        "colab_type": "code",
        "colab": {}
      },
      "source": [
        ""
      ],
      "execution_count": null,
      "outputs": []
    }
  ]
}