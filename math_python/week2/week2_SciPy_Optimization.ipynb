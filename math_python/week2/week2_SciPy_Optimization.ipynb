{
  "nbformat": 4,
  "nbformat_minor": 0,
  "metadata": {
    "kernelspec": {
      "display_name": "Python 2",
      "language": "python",
      "name": "python2"
    },
    "language_info": {
      "codemirror_mode": {
        "name": "ipython",
        "version": 2
      },
      "file_extension": ".py",
      "mimetype": "text/x-python",
      "name": "python",
      "nbconvert_exporter": "python",
      "pygments_lexer": "ipython2",
      "version": "2.7.10"
    },
    "colab": {
      "name": "week2_SciPy-Optimization.ipynb",
      "provenance": []
    }
  },
  "cells": [
    {
      "cell_type": "markdown",
      "metadata": {
        "id": "l9Dc_BZqLXoJ",
        "colab_type": "text"
      },
      "source": [
        "# Решение оптимизационных задач в SciPy"
      ]
    },
    {
      "cell_type": "code",
      "metadata": {
        "id": "v7q2spwXLXoK",
        "colab_type": "code",
        "colab": {}
      },
      "source": [
        "from scipy import optimize"
      ],
      "execution_count": 1,
      "outputs": []
    },
    {
      "cell_type": "code",
      "metadata": {
        "id": "ZW9HnmAHLXoN",
        "colab_type": "code",
        "colab": {
          "base_uri": "https://localhost:8080/",
          "height": 34
        },
        "outputId": "b659b370-1339-4b78-832a-c9c83a70e57a"
      },
      "source": [
        "def f(x):   # The rosenbrock function (минимум в точке 1 1 в желобе)\n",
        "    return .5*(1 - x[0])**2 + (x[1] - x[0]**2)**2\n",
        "    \n",
        "print f([1, 1]) "
      ],
      "execution_count": 2,
      "outputs": [
        {
          "output_type": "stream",
          "text": [
            "0.0\n"
          ],
          "name": "stdout"
        }
      ]
    },
    {
      "cell_type": "code",
      "metadata": {
        "id": "WaFwRa_jLXoQ",
        "colab_type": "code",
        "colab": {},
        "outputId": "b9d9911c-39c1-433a-de5f-5a928e503394"
      },
      "source": [
        "result = optimize.brute(f, ((-5, 5), (-5, 5))) #перебор\n",
        "print result"
      ],
      "execution_count": null,
      "outputs": [
        {
          "output_type": "stream",
          "text": [
            "[ 0.99999324  1.00001283]\n"
          ],
          "name": "stdout"
        }
      ]
    },
    {
      "cell_type": "code",
      "metadata": {
        "id": "nxhslDEtLXoS",
        "colab_type": "code",
        "colab": {},
        "outputId": "4bdb746e-5894-4c40-aae8-49a573a8964c"
      },
      "source": [
        "print optimize.differential_evolution(f, ((-5, 5), (-5, 5))) #функция плохая (негладкая, разрывы) - дифференциальная эволяция(генетический алгоритм)"
      ],
      "execution_count": null,
      "outputs": [
        {
          "output_type": "stream",
          "text": [
            "    nfev: 1803\n",
            " success: True\n",
            "     fun: 1.9180451127782141e-20\n",
            "       x: array([ 1.,  1.])\n",
            " message: 'Optimization terminated successfully.'\n",
            "     nit: 59\n"
          ],
          "name": "stdout"
        }
      ]
    },
    {
      "cell_type": "code",
      "metadata": {
        "id": "zPIkkc3NLXoU",
        "colab_type": "code",
        "colab": {}
      },
      "source": [
        "import numpy as np\n",
        "\n",
        "def g(x): #если у функции есть градиент\n",
        "        return np.array((-2*.5*(1 - x[0]) - 4*x[0]*(x[1] - x[0]**2), 2*(x[1] - x[0]**2)))"
      ],
      "execution_count": 3,
      "outputs": []
    },
    {
      "cell_type": "code",
      "metadata": {
        "id": "FG3E4CnWLXoX",
        "colab_type": "code",
        "colab": {
          "base_uri": "https://localhost:8080/",
          "height": 34
        },
        "outputId": "dc1c788d-faa8-4dab-9b61-354648f42038"
      },
      "source": [
        "print optimize.check_grad(f, g, [2, 2]) #проверка, верло ли выписали (сравнили с численной оценкой для градиента)"
      ],
      "execution_count": 4,
      "outputs": [
        {
          "output_type": "stream",
          "text": [
            "2.384185791015625e-07\n"
          ],
          "name": "stdout"
        }
      ]
    },
    {
      "cell_type": "code",
      "metadata": {
        "id": "RG3UbDqiLXoZ",
        "colab_type": "code",
        "colab": {},
        "outputId": "fb0ea5d4-8e0c-4f6d-d862-dc86ccae1202"
      },
      "source": [
        "print optimize.fmin_bfgs(f, [2, 2], fprime=g) #градиентных методов — bfgs,  всего 16 итераций"
      ],
      "execution_count": null,
      "outputs": [
        {
          "output_type": "stream",
          "text": [
            "Optimization terminated successfully.\n",
            "         Current function value: 0.000000\n",
            "         Iterations: 16\n",
            "         Function evaluations: 24\n",
            "         Gradient evaluations: 24\n",
            "[ 1.00000017  1.00000026]\n"
          ],
          "name": "stdout"
        }
      ]
    },
    {
      "cell_type": "code",
      "metadata": {
        "id": "c0xZDzzGLXoc",
        "colab_type": "code",
        "colab": {},
        "outputId": "17fa28f9-22ba-4255-ceb7-0ed52b876f58"
      },
      "source": [
        "print optimize.minimize(f, [2, 2]) #не обязательно писать, какой метод использовать или передавать градиент\n",
        "#Максимизация функции f(x) эквивалентна минимизации функции - f(x). А чтобы получить - f(x) написали небольшую обертку.\n",
        "# def g(x):\n",
        "#   return -f(x)\n",
        "# optimize.minimize(g, [1, 1])"
      ],
      "execution_count": null,
      "outputs": [
        {
          "output_type": "stream",
          "text": [
            "   status: 0\n",
            "  success: True\n",
            "     njev: 24\n",
            "     nfev: 96\n",
            " hess_inv: array([[ 0.98632031,  1.97824298],\n",
            "       [ 1.97824298,  4.46512254]])\n",
            "      fun: 9.536835216356594e-15\n",
            "        x: array([ 1.00000007,  1.00000005])\n",
            "  message: 'Optimization terminated successfully.'\n",
            "      jac: array([  4.74151523e-07,  -1.53924328e-07])\n"
          ],
          "name": "stdout"
        }
      ]
    },
    {
      "cell_type": "code",
      "metadata": {
        "id": "kmwTa1sWLXoe",
        "colab_type": "code",
        "colab": {},
        "outputId": "2dae8621-e0cd-42ef-b5ff-4ab68574dd68"
      },
      "source": [
        "print optimize.minimize(f, [2, 2], method='BFGS') "
      ],
      "execution_count": null,
      "outputs": [
        {
          "output_type": "stream",
          "text": [
            "   status: 0\n",
            "  success: True\n",
            "     njev: 24\n",
            "     nfev: 96\n",
            " hess_inv: array([[ 0.98632031,  1.97824298],\n",
            "       [ 1.97824298,  4.46512254]])\n",
            "      fun: 9.536835216356594e-15\n",
            "        x: array([ 1.00000007,  1.00000005])\n",
            "  message: 'Optimization terminated successfully.'\n",
            "      jac: array([  4.74151523e-07,  -1.53924328e-07])\n"
          ],
          "name": "stdout"
        }
      ]
    },
    {
      "cell_type": "code",
      "metadata": {
        "id": "gCzjoEJGLXog",
        "colab_type": "code",
        "colab": {},
        "outputId": "a3835513-2479-4e67-f7ea-6e3e998e65a4"
      },
      "source": [
        "print optimize.minimize(f, [2, 2], method='Nelder-Mead')"
      ],
      "execution_count": null,
      "outputs": [
        {
          "output_type": "stream",
          "text": [
            "  status: 0\n",
            "    nfev: 91\n",
            " success: True\n",
            "     fun: 1.2311995365407462e-10\n",
            "       x: array([ 0.99998568,  0.99996682])\n",
            " message: 'Optimization terminated successfully.'\n",
            "     nit: 46\n"
          ],
          "name": "stdout"
        }
      ]
    }
  ]
}