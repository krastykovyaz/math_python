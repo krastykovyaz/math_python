{
  "nbformat": 4,
  "nbformat_minor": 0,
  "metadata": {
    "anaconda-cloud": {},
    "kernelspec": {
      "display_name": "Python [conda root]",
      "language": "python",
      "name": "conda-root-py"
    },
    "language_info": {
      "codemirror_mode": {
        "name": "ipython",
        "version": 3
      },
      "file_extension": ".py",
      "mimetype": "text/x-python",
      "name": "python",
      "nbconvert_exporter": "python",
      "pygments_lexer": "ipython3",
      "version": "3.4.5"
    },
    "colab": {
      "name": "week2_vector_operations.ipynb",
      "provenance": []
    }
  },
  "cells": [
    {
      "cell_type": "markdown",
      "metadata": {
        "id": "OGCaeg5xU8Fj",
        "colab_type": "text"
      },
      "source": [
        "# `NumPy`: векторы и операции над ними\n",
        "---"
      ]
    },
    {
      "cell_type": "markdown",
      "metadata": {
        "id": "QET_SjthU8Fk",
        "colab_type": "text"
      },
      "source": [
        "В этом ноутбуке нам понадобятся библиотека `NumPy`. Для удобства импортируем ее под более коротким именем:"
      ]
    },
    {
      "cell_type": "code",
      "metadata": {
        "id": "vSbVT6x1U8Fk",
        "colab_type": "code",
        "colab": {}
      },
      "source": [
        "import numpy as np"
      ],
      "execution_count": 1,
      "outputs": []
    },
    {
      "cell_type": "markdown",
      "metadata": {
        "id": "A3HwM10lU8Fo",
        "colab_type": "text"
      },
      "source": [
        "## 1. Создание векторов"
      ]
    },
    {
      "cell_type": "markdown",
      "metadata": {
        "id": "WGxjr9waU8Fo",
        "colab_type": "text"
      },
      "source": [
        "Самый простой способ создать вектор в `NumPy` — задать его явно с помощью __`numpy.array(list, dtype=None, ...)`__.\n",
        "\n",
        "Параметр __`list`__ задает итерируемый объект, из которого можно создать вектор. Например, в качестве этого параметра можно задать список чисел. Параметр __`dtype`__ задает тип значений вектора, например, __`float`__ — для вещественных значений и __`int`__ — для целочисленных. Если этот параметр не задан, то тип данных будет определен из типа элементов первого аргумента. "
      ]
    },
    {
      "cell_type": "code",
      "metadata": {
        "id": "dyj_wgATU8Fo",
        "colab_type": "code",
        "colab": {
          "base_uri": "https://localhost:8080/",
          "height": 51
        },
        "outputId": "94241bad-080d-4e17-a8a1-d9f4a45809b3"
      },
      "source": [
        "a = np.array([1, 2, 3, 4])\n",
        "print ('Вектор:\\n', a) "
      ],
      "execution_count": null,
      "outputs": [
        {
          "output_type": "stream",
          "text": [
            "Вектор:\n",
            " [1 2 3 4]\n"
          ],
          "name": "stdout"
        }
      ]
    },
    {
      "cell_type": "code",
      "metadata": {
        "id": "Qx2g6Q06U8Fr",
        "colab_type": "code",
        "colab": {},
        "outputId": "be6f4418-a4c6-4da3-b666-3d7f88e52121"
      },
      "source": [
        "b = np.array([1, 2, 3, 4, 5], dtype=float)\n",
        "print 'Вещественный вектор:\\n', b"
      ],
      "execution_count": null,
      "outputs": [
        {
          "output_type": "stream",
          "text": [
            "Вещественный вектор:\n",
            "[ 1.  2.  3.  4.  5.]\n"
          ],
          "name": "stdout"
        }
      ]
    },
    {
      "cell_type": "code",
      "metadata": {
        "id": "4ssoS2YaU8Fu",
        "colab_type": "code",
        "colab": {},
        "outputId": "cc1e59bd-d812-41f4-a36f-2fc681baf6a2"
      },
      "source": [
        "c = np.array([True, False, True], dtype=bool)\n",
        "print 'Булевский вектор:\\n', c"
      ],
      "execution_count": null,
      "outputs": [
        {
          "output_type": "stream",
          "text": [
            "Булевский вектор:\n",
            "[ True False  True]\n"
          ],
          "name": "stdout"
        }
      ]
    },
    {
      "cell_type": "markdown",
      "metadata": {
        "id": "qrQgdLuRU8F0",
        "colab_type": "text"
      },
      "source": [
        "Тип значений вектора можно узнать с помощью __`numpy.ndarray.dtype`__:"
      ]
    },
    {
      "cell_type": "code",
      "metadata": {
        "id": "8CkQZ0mLU8F0",
        "colab_type": "code",
        "colab": {},
        "outputId": "82746ab8-7352-4a27-876f-d986c572943e"
      },
      "source": [
        "print 'Тип булевского вектора:\\n', c.dtype"
      ],
      "execution_count": null,
      "outputs": [
        {
          "output_type": "stream",
          "text": [
            "Тип булевского вектора:\n",
            "bool\n"
          ],
          "name": "stdout"
        }
      ]
    },
    {
      "cell_type": "markdown",
      "metadata": {
        "id": "aSruvFxMU8F3",
        "colab_type": "text"
      },
      "source": [
        "Другим способом задания вектора является функция __`numpy.arange(([start, ]stop, [step, ]...)`__, которая задает последовательность чисел заданного типа из промежутка __[`start`, `stop`)__ через шаг __`step`__:"
      ]
    },
    {
      "cell_type": "code",
      "metadata": {
        "id": "IxkNq2kOU8F4",
        "colab_type": "code",
        "colab": {},
        "outputId": "9bf38bd8-291f-4b1d-9bbe-9218e1236aa0"
      },
      "source": [
        "d = np.arange(start=10, stop=20, step=2) # последнее значение не включается!\n",
        "print 'Вектор чисел от 10 до 20 с шагом 2:\\n', d"
      ],
      "execution_count": null,
      "outputs": [
        {
          "output_type": "stream",
          "text": [
            "Вектор чисел от 10 до 20 с шагом 2:\n",
            "[10 12 14 16 18]\n"
          ],
          "name": "stdout"
        }
      ]
    },
    {
      "cell_type": "code",
      "metadata": {
        "id": "aRKr236CU8F6",
        "colab_type": "code",
        "colab": {},
        "outputId": "23e5fc3a-eb61-4bf4-9bf3-b4f5757d11fe"
      },
      "source": [
        "f = np.arange(start=0, stop=1, step=0.3, dtype=float)\n",
        "print 'Вещественный вектор чисел от 0 до 1 с шагом 0.3:\\n', f"
      ],
      "execution_count": null,
      "outputs": [
        {
          "output_type": "stream",
          "text": [
            "Вещественный вектор чисел от 0 до 1 с шагом 0.3:\n",
            "[ 0.   0.3  0.6  0.9]\n"
          ],
          "name": "stdout"
        }
      ]
    },
    {
      "cell_type": "markdown",
      "metadata": {
        "id": "A6ThgtbCU8F8",
        "colab_type": "text"
      },
      "source": [
        "По сути вектор в `NumPy` является одномерным массивом, что соответствует интуитивному определению вектора:"
      ]
    },
    {
      "cell_type": "code",
      "metadata": {
        "id": "teXYsJIqU8F8",
        "colab_type": "code",
        "colab": {},
        "outputId": "b03337c4-0069-4f26-8460-fdcb54bd17e1"
      },
      "source": [
        "print c.ndim # количество размерностей"
      ],
      "execution_count": null,
      "outputs": [
        {
          "output_type": "stream",
          "text": [
            "1\n"
          ],
          "name": "stdout"
        }
      ]
    },
    {
      "cell_type": "code",
      "metadata": {
        "id": "CwvGz15vU8F_",
        "colab_type": "code",
        "colab": {},
        "outputId": "0fc8d5d6-5a2d-4148-9f03-c6429631f7c8"
      },
      "source": [
        "print c.shape # shape фактически задает длину вектора "
      ],
      "execution_count": null,
      "outputs": [
        {
          "output_type": "stream",
          "text": [
            "(3,)\n"
          ],
          "name": "stdout"
        }
      ]
    },
    {
      "cell_type": "markdown",
      "metadata": {
        "id": "qEIaZqgiU8GB",
        "colab_type": "text"
      },
      "source": [
        "__Обратите внимание:__ _вектор _и одномерный массив тождественные понятия в `NumPy`. Помимо этого, также существуют понятия _вектор-столбец_ и _вектор-строка_, которые, несмотря на то что математически задают один и тот же объект, являются двумерными массивами и имеют другое значение поля __`shape`__ (в этом случае поле состоит из двух чисел, одно из которых равно единице). Эти тонкости будут рассмотрены в следующем уроке."
      ]
    },
    {
      "cell_type": "markdown",
      "metadata": {
        "id": "yfy3kVRNU8GB",
        "colab_type": "text"
      },
      "source": [
        "Более подробно о том, как создавать векторы в `NumPy`, \n",
        "см. [документацию](http://docs.scipy.org/doc/numpy-1.10.1/user/basics.creation.html)."
      ]
    },
    {
      "cell_type": "markdown",
      "metadata": {
        "id": "M_isrRbOU8GC",
        "colab_type": "text"
      },
      "source": [
        "## 2. Операции над векторами"
      ]
    },
    {
      "cell_type": "markdown",
      "metadata": {
        "id": "0zNgNRI-U8GC",
        "colab_type": "text"
      },
      "source": [
        "Векторы в `NumPy` можно складывать, вычитать, умножать на число и умножать на другой вектор (покоординатно):"
      ]
    },
    {
      "cell_type": "code",
      "metadata": {
        "id": "DYetLC2UU8GD",
        "colab_type": "code",
        "colab": {},
        "outputId": "3e0bece7-ca53-416a-e8f5-a9a0c18b899c"
      },
      "source": [
        "a = np.array([1, 2, 3])\n",
        "b = np.array([6, 5, 4])\n",
        "k = 2\n",
        "\n",
        "print 'Вектор a:', a\n",
        "print 'Вектор b:', b\n",
        "print 'Число k:', k"
      ],
      "execution_count": null,
      "outputs": [
        {
          "output_type": "stream",
          "text": [
            "Вектор a: [1 2 3]\n",
            "Вектор b: [6 5 4]\n",
            "Число k: 2\n"
          ],
          "name": "stdout"
        }
      ]
    },
    {
      "cell_type": "code",
      "metadata": {
        "id": "39DBWH_UU8GF",
        "colab_type": "code",
        "colab": {},
        "outputId": "9e8435cb-54bf-4731-e3d4-13aa5e74776d"
      },
      "source": [
        "print 'Сумма a и b:\\n', a + b"
      ],
      "execution_count": null,
      "outputs": [
        {
          "output_type": "stream",
          "text": [
            "Сумма a и b:\n",
            "[7 7 7]\n"
          ],
          "name": "stdout"
        }
      ]
    },
    {
      "cell_type": "code",
      "metadata": {
        "id": "h8d90ys5U8GI",
        "colab_type": "code",
        "colab": {},
        "outputId": "4f1ab572-fdc5-4ec5-ca65-b38315e234c9"
      },
      "source": [
        "print 'Разность a и b:\\n', a - b"
      ],
      "execution_count": null,
      "outputs": [
        {
          "output_type": "stream",
          "text": [
            "Разность a и b:\n",
            "[-5 -3 -1]\n"
          ],
          "name": "stdout"
        }
      ]
    },
    {
      "cell_type": "code",
      "metadata": {
        "id": "gtqTCzyeU8GK",
        "colab_type": "code",
        "colab": {},
        "outputId": "3a2aad00-fde0-4c80-f37f-be1fd15ede01"
      },
      "source": [
        "print 'Покоординатное умножение a и b:\\n', a * b "
      ],
      "execution_count": null,
      "outputs": [
        {
          "output_type": "stream",
          "text": [
            "Покоординатное умножение a и b:\n",
            "[ 6 10 12]\n"
          ],
          "name": "stdout"
        }
      ]
    },
    {
      "cell_type": "code",
      "metadata": {
        "id": "lxgypxy0U8GM",
        "colab_type": "code",
        "colab": {},
        "outputId": "8d783aa5-6a55-4a43-f06b-1dd7fb8c9147"
      },
      "source": [
        "print 'Умножение вектора на число (осуществляется покоординатно):\\n', k * a "
      ],
      "execution_count": null,
      "outputs": [
        {
          "output_type": "stream",
          "text": [
            "Умножение вектора на число (осуществляется покоординатно):\n",
            "[2 4 6]\n"
          ],
          "name": "stdout"
        }
      ]
    },
    {
      "cell_type": "markdown",
      "metadata": {
        "id": "BarCRMByU8GP",
        "colab_type": "text"
      },
      "source": [
        "## 3. Нормы векторов"
      ]
    },
    {
      "cell_type": "markdown",
      "metadata": {
        "id": "JtMCMn92U8GP",
        "colab_type": "text"
      },
      "source": [
        "Вспомним некоторые нормы, которые можно ввести в пространстве $\\mathbb{R}^{n}$, и рассмотрим, с помощью каких библиотек и функций их можно вычислять в `NumPy`."
      ]
    },
    {
      "cell_type": "markdown",
      "metadata": {
        "id": "d7T8wFI5U8GP",
        "colab_type": "text"
      },
      "source": [
        "### p-норма"
      ]
    },
    {
      "cell_type": "markdown",
      "metadata": {
        "id": "2iiSrgu6U8GQ",
        "colab_type": "text"
      },
      "source": [
        "p-норма (норма Гёльдера) для вектора $x = (x_{1}, \\dots, x_{n}) \\in \\mathbb{R}^{n}$ вычисляется по формуле:\n",
        "\n",
        "$$\n",
        "\\left\\Vert x \\right\\Vert_{p} = \\left( \\sum_{i=1}^n \\left| x_{i} \\right|^{p} \\right)^{1 / p},~p \\geq 1.\n",
        "$$"
      ]
    },
    {
      "cell_type": "markdown",
      "metadata": {
        "id": "MIr6B9JJU8GQ",
        "colab_type": "text"
      },
      "source": [
        "В частных случаях при:\n",
        "* $p = 1$ получаем $\\ell_{1}$ норму\n",
        "* $p = 2$ получаем $\\ell_{2}$ норму"
      ]
    },
    {
      "cell_type": "markdown",
      "metadata": {
        "id": "cSm8vOxYU8GQ",
        "colab_type": "text"
      },
      "source": [
        "Далее нам понабится модуль `numpy.linalg`, реализующий некоторые приложения линейной алгебры. Для вычисления различных норм мы используем функцию __`numpy.linalg.norm(x, ord=None, ...)`__, где __`x`__ — исходный вектор, __`ord`__ — параметр, определяющий норму (мы рассмотрим два варианта его значений — 1 и 2). Импортируем эту функцию:"
      ]
    },
    {
      "cell_type": "code",
      "metadata": {
        "id": "J1WJ3yLkU8GR",
        "colab_type": "code",
        "colab": {}
      },
      "source": [
        "from numpy.linalg import norm"
      ],
      "execution_count": null,
      "outputs": []
    },
    {
      "cell_type": "markdown",
      "metadata": {
        "id": "UExv18-BU8GT",
        "colab_type": "text"
      },
      "source": [
        "### $\\ell_{1}$ норма"
      ]
    },
    {
      "cell_type": "markdown",
      "metadata": {
        "id": "QajtqGX-U8GU",
        "colab_type": "text"
      },
      "source": [
        "$\\ell_{1}$ норма \n",
        "(также известная как [манхэттенское расстояние](https://ru.wikipedia.org/wiki/%D0%A0%D0%B0%D1%81%D1%81%D1%82%D0%BE%D1%8F%D0%BD%D0%B8%D0%B5_%D0%B3%D0%BE%D1%80%D0%BE%D0%B4%D1%81%D0%BA%D0%B8%D1%85_%D0%BA%D0%B2%D0%B0%D1%80%D1%82%D0%B0%D0%BB%D0%BE%D0%B2))\n",
        "для вектора $x = (x_{1}, \\dots, x_{n}) \\in \\mathbb{R}^{n}$ вычисляется по формуле:\n",
        "\n",
        "$$\n",
        " \\left\\Vert x \\right\\Vert_{1} = \\sum_{i=1}^n \\left| x_{i} \\right|.\n",
        "$$"
      ]
    },
    {
      "cell_type": "markdown",
      "metadata": {
        "id": "ZE7YBpSQU8GU",
        "colab_type": "text"
      },
      "source": [
        "Ей в функции __`numpy.linalg.norm(x, ord=None, ...)`__ соответствует параметр __`ord=1`__."
      ]
    },
    {
      "cell_type": "code",
      "metadata": {
        "id": "EeDZU-L6U8GU",
        "colab_type": "code",
        "colab": {},
        "outputId": "1ad10720-61a4-46f7-e522-78fb9c53c3d0"
      },
      "source": [
        "a = np.array([1, 2, -3])\n",
        "print 'Вектор a:', a"
      ],
      "execution_count": null,
      "outputs": [
        {
          "output_type": "stream",
          "text": [
            "Вектор a: [ 1  2 -3]\n"
          ],
          "name": "stdout"
        }
      ]
    },
    {
      "cell_type": "code",
      "metadata": {
        "id": "wafZLcIfU8GX",
        "colab_type": "code",
        "colab": {},
        "outputId": "596bfc4f-30f9-48c8-85f4-cefcd9dc2760"
      },
      "source": [
        "print 'L1 норма вектора a:\\n', norm(a, ord=1)"
      ],
      "execution_count": null,
      "outputs": [
        {
          "output_type": "stream",
          "text": [
            "L1 норма вектора a:\n",
            "6\n"
          ],
          "name": "stdout"
        }
      ]
    },
    {
      "cell_type": "markdown",
      "metadata": {
        "id": "CaIOMoMtU8GY",
        "colab_type": "text"
      },
      "source": [
        "### $\\ell_{2}$ норма"
      ]
    },
    {
      "cell_type": "markdown",
      "metadata": {
        "id": "Sjgmkw8OU8GZ",
        "colab_type": "text"
      },
      "source": [
        "$\\ell_{2}$ норма (также известная как евклидова норма)\n",
        "для вектора $x = (x_{1}, \\dots, x_{n}) \\in \\mathbb{R}^{n}$ вычисляется по формуле:\n",
        "\n",
        "$$\n",
        " \\left\\Vert x \\right\\Vert_{2} = \\sqrt{\\sum_{i=1}^n \\left( x_{i} \\right)^2}.\n",
        "$$"
      ]
    },
    {
      "cell_type": "markdown",
      "metadata": {
        "id": "V7rPkze_U8GZ",
        "colab_type": "text"
      },
      "source": [
        "Ей в функции __`numpy.linalg.norm(x, ord=None, ...)`__ соответствует параметр __`ord=2`__."
      ]
    },
    {
      "cell_type": "code",
      "metadata": {
        "id": "bL-wnsj4U8GZ",
        "colab_type": "code",
        "colab": {},
        "outputId": "a878ecab-85b2-4f0d-b076-c3cd6a79cfb6"
      },
      "source": [
        "a = np.array([1, 2, -3])\n",
        "print 'Вектор a:', a"
      ],
      "execution_count": null,
      "outputs": [
        {
          "output_type": "stream",
          "text": [
            "Вектор a: [ 1  2 -3]\n"
          ],
          "name": "stdout"
        }
      ]
    },
    {
      "cell_type": "code",
      "metadata": {
        "id": "N043lW5GU8Gb",
        "colab_type": "code",
        "colab": {},
        "outputId": "5a4875f4-eb89-4e75-cb46-ea883c4360d2"
      },
      "source": [
        "print 'L2 норма вектора a:\\n', norm(a, ord=2)"
      ],
      "execution_count": null,
      "outputs": [
        {
          "output_type": "stream",
          "text": [
            "L2 норма вектора a:\n",
            "3.74165738677\n"
          ],
          "name": "stdout"
        }
      ]
    },
    {
      "cell_type": "markdown",
      "metadata": {
        "id": "kykv61I_U8Gd",
        "colab_type": "text"
      },
      "source": [
        "Более подробно о том, какие еще нормы (в том числе матричные) можно вычислить, см. [документацию](http://docs.scipy.org/doc/numpy-1.10.0/reference/generated/numpy.linalg.norm.html). "
      ]
    },
    {
      "cell_type": "markdown",
      "metadata": {
        "id": "LaTiW8FnU8Gd",
        "colab_type": "text"
      },
      "source": [
        "## 4. Расстояния между векторами"
      ]
    },
    {
      "cell_type": "markdown",
      "metadata": {
        "id": "S7KpGgj1U8Gd",
        "colab_type": "text"
      },
      "source": [
        "Для двух векторов $x = (x_{1}, \\dots, x_{n}) \\in \\mathbb{R}^{n}$ и $y = (y_{1}, \\dots, y_{n}) \\in \\mathbb{R}^{n}$ $\\ell_{1}$ и $\\ell_{2}$ раccтояния вычисляются по следующим формулам соответственно:\n",
        "\n",
        "$$\n",
        " \\rho_{1}\\left( x, y \\right) = \\left\\Vert x - y \\right\\Vert_{1} = \\sum_{i=1}^n \\left| x_{i} - y_{i} \\right|\n",
        "$$\n",
        "\n",
        "$$\n",
        " \\rho_{2}\\left( x, y \\right) = \\left\\Vert x - y \\right\\Vert_{2} = \n",
        " \\sqrt{\\sum_{i=1}^n \\left( x_{i} - y_{i} \\right)^2}.\n",
        "$$"
      ]
    },
    {
      "cell_type": "code",
      "metadata": {
        "id": "VpD7Q2U4U8Ge",
        "colab_type": "code",
        "colab": {},
        "outputId": "2038646c-28cb-4fde-a772-106a9b3d4a36"
      },
      "source": [
        "a = np.array([1, 2, -3])\n",
        "b = np.array([-4, 3, 8])\n",
        "print 'Вектор a:', a\n",
        "print 'Вектор b:', b"
      ],
      "execution_count": null,
      "outputs": [
        {
          "output_type": "stream",
          "text": [
            "Вектор a: [ 1  2 -3]\n",
            "Вектор b: [-4  3  8]\n"
          ],
          "name": "stdout"
        }
      ]
    },
    {
      "cell_type": "code",
      "metadata": {
        "id": "sYs48avzU8Gg",
        "colab_type": "code",
        "colab": {},
        "outputId": "2ecd4554-fbed-4206-f994-c3e4714695f0"
      },
      "source": [
        "print 'L1 расстояние между векторами a и b:\\n', norm(a - b, ord=1)"
      ],
      "execution_count": null,
      "outputs": [
        {
          "output_type": "stream",
          "text": [
            "L1 расстояние между векторами a и b:\n",
            "17\n"
          ],
          "name": "stdout"
        }
      ]
    },
    {
      "cell_type": "code",
      "metadata": {
        "id": "NtvmE_auU8Gi",
        "colab_type": "code",
        "colab": {},
        "outputId": "1f77cf4b-5668-4ab1-e361-60afaa965bef"
      },
      "source": [
        "print 'L2 расстояние между векторами a и b:\\n', norm(a - b, ord=2)"
      ],
      "execution_count": null,
      "outputs": [
        {
          "output_type": "stream",
          "text": [
            "L2 расстояние между векторами a и b:\n",
            "12.124355653\n"
          ],
          "name": "stdout"
        }
      ]
    },
    {
      "cell_type": "markdown",
      "metadata": {
        "id": "RUm98Gz0U8Gk",
        "colab_type": "text"
      },
      "source": [
        "Также расстояние между векторами можно посчитать с помощью функции __`scipy.spatial.distance.cdist(XA, XB, metric='euclidean', p=2, ...)`__ из модуля `SciPy`, предназначенного для выполнения научных и инженерных расчётов. "
      ]
    },
    {
      "cell_type": "code",
      "metadata": {
        "id": "JBenEEQBU8Gk",
        "colab_type": "code",
        "colab": {}
      },
      "source": [
        "from scipy.spatial.distance import cdist"
      ],
      "execution_count": null,
      "outputs": []
    },
    {
      "cell_type": "markdown",
      "metadata": {
        "id": "fz0VqJW_U8Gm",
        "colab_type": "text"
      },
      "source": [
        "__`scipy.spatial.distance.cdist(...)`__ требует, чтобы размерность __`XA`__ и __`XB`__ была как минимум двумерная. По этой причине для использования этой функции необходимо преобразовать _векторы_, которые мы рассматриваем в этом ноутбуке, к _вектор-строкам_ с помощью способов, которые мы рассмотрим ниже. "
      ]
    },
    {
      "cell_type": "markdown",
      "metadata": {
        "id": "RHWIjFd0U8Gn",
        "colab_type": "text"
      },
      "source": [
        "Параметры __`XA, XB`__ — исходные вектор-строки, а __`metric`__ и __`p`__ задают метрику расстояния\n",
        "(более подробно о том, какие метрики можно использовать, см. [документацию](http://docs.scipy.org/doc/scipy-0.16.0/reference/generated/scipy.spatial.distance.cdist.html))."
      ]
    },
    {
      "cell_type": "markdown",
      "metadata": {
        "id": "w-MNdxxMU8Gn",
        "colab_type": "text"
      },
      "source": [
        "Первый способ из _вектора_ сделать _вектор-строку (вектор-столбец)_ — это использовать _метод_ __`array.reshape(shape)`__, где параметр __`shape`__ задает размерность вектора (кортеж чисел)."
      ]
    },
    {
      "cell_type": "code",
      "metadata": {
        "scrolled": true,
        "id": "8e2RtiHvU8Gn",
        "colab_type": "code",
        "colab": {},
        "outputId": "737024fd-1c44-4e1a-9f27-bce68d717008"
      },
      "source": [
        "a = np.array([6, 3, -5])\n",
        "b = np.array([-1, 0, 7])\n",
        "print 'Вектор a:', a\n",
        "print 'Его размерность:', a.shape\n",
        "print 'Вектор b:', b\n",
        "print 'Его размерность:', b.shape"
      ],
      "execution_count": null,
      "outputs": [
        {
          "output_type": "stream",
          "text": [
            "Вектор a: [ 6  3 -5]\n",
            "Его размерность: (3,)\n",
            "Вектор b: [-1  0  7]\n",
            "Его размерность: (3,)\n"
          ],
          "name": "stdout"
        }
      ]
    },
    {
      "cell_type": "code",
      "metadata": {
        "id": "Pq3WOzgyU8Gp",
        "colab_type": "code",
        "colab": {},
        "outputId": "cffacc74-655f-4a22-a47b-fb6a12328d48"
      },
      "source": [
        "a = a.reshape((1, 3))\n",
        "b = b.reshape((1, 3))\n",
        "print 'После применения метода reshape:\\n'\n",
        "print 'Вектор-строка a:', a\n",
        "print 'Его размерность:', a.shape\n",
        "print 'Вектор-строка b:', b\n",
        "print 'Его размерность:', b.shape"
      ],
      "execution_count": null,
      "outputs": [
        {
          "output_type": "stream",
          "text": [
            "После применения метода reshape:\n",
            "\n",
            "Вектор-строка a: [[ 6  3 -5]]\n",
            "Его размерность: (1, 3)\n",
            "Вектор-строка b: [[-1  0  7]]\n",
            "Его размерность: (1, 3)\n"
          ],
          "name": "stdout"
        }
      ]
    },
    {
      "cell_type": "code",
      "metadata": {
        "id": "swUcOdsIU8Gr",
        "colab_type": "code",
        "colab": {},
        "outputId": "7c0c7a0b-198e-4883-98a6-6af121fc7282"
      },
      "source": [
        "print 'Манхэттенское расстояние между a и b (через cdist):', cdist(a, b, metric='cityblock')"
      ],
      "execution_count": null,
      "outputs": [
        {
          "output_type": "stream",
          "text": [
            "Манхэттенское расстояние между a и b (через cdist): [[ 22.]]\n"
          ],
          "name": "stdout"
        }
      ]
    },
    {
      "cell_type": "markdown",
      "metadata": {
        "id": "JMM1YaLQU8Gt",
        "colab_type": "text"
      },
      "source": [
        "Заметим, что после применения этого метода размерность полученных вектор-строк будет равна __`shape`__. Следующий метод позволяет сделать такое же преобразование, но не изменяет размерность исходного вектора.  "
      ]
    },
    {
      "cell_type": "markdown",
      "metadata": {
        "id": "bLNwh-zCU8Gt",
        "colab_type": "text"
      },
      "source": [
        "В `NumPy` к размерностям объектов можно добавлять фиктивные оси с помощью __`np.newaxis`__. Для того, чтобы понять, как это сделать, рассмотрим пример:"
      ]
    },
    {
      "cell_type": "code",
      "metadata": {
        "id": "DYLXyzmPU8Gt",
        "colab_type": "code",
        "colab": {},
        "outputId": "9ed99e6d-a0c8-476c-bfdc-a30143de9d73"
      },
      "source": [
        "d = np.array([3, 0, 8, 9, -10])\n",
        "print 'Вектор d:', d\n",
        "print 'Его размерность:', d.shape"
      ],
      "execution_count": null,
      "outputs": [
        {
          "output_type": "stream",
          "text": [
            "Вектор d: [  3   0   8   9 -10]\n",
            "Его размерность: (5,)\n"
          ],
          "name": "stdout"
        }
      ]
    },
    {
      "cell_type": "code",
      "metadata": {
        "id": "NoytRPxJU8Gw",
        "colab_type": "code",
        "colab": {},
        "outputId": "50088401-a862-40fc-a7b0-aafbb70871e5"
      },
      "source": [
        "print 'Вектор d с newaxis --> вектор-строка:\\n', d[np.newaxis, :]\n",
        "print 'Полученная размерность:', d[np.newaxis, :].shape\n",
        "\n",
        "print 'Вектор d с newaxis --> вектор-столбец:\\n', d[:, np.newaxis]\n",
        "print 'Полученная размерность:', d[:, np.newaxis].shape"
      ],
      "execution_count": null,
      "outputs": [
        {
          "output_type": "stream",
          "text": [
            "Вектор d с newaxis --> вектор-строка:\n",
            "[[  3   0   8   9 -10]]\n",
            "Полученная размерность: (1, 5)\n",
            "Вектор d с newaxis --> вектор-столбец:\n",
            "[[  3]\n",
            " [  0]\n",
            " [  8]\n",
            " [  9]\n",
            " [-10]]\n",
            "Полученная размерность: (5, 1)\n"
          ],
          "name": "stdout"
        }
      ]
    },
    {
      "cell_type": "markdown",
      "metadata": {
        "id": "2tGfefDAU8Gx",
        "colab_type": "text"
      },
      "source": [
        "Важно, что __`np.newaxis`__ добавляет к размерности ось, длина которой равна 1 (это и логично, так как количество элементов должно сохраняться). Таким образом, надо вставлять новую ось там, где нужна единица в размерности. "
      ]
    },
    {
      "cell_type": "markdown",
      "metadata": {
        "id": "OTeul6mJU8Gy",
        "colab_type": "text"
      },
      "source": [
        "Теперь посчитаем расстояния с помощью __`scipy.spatial.distance.cdist(...)`__, используя __`np.newaxis`__ для преобразования векторов:"
      ]
    },
    {
      "cell_type": "code",
      "metadata": {
        "scrolled": true,
        "id": "SvC6JDCqU8Gy",
        "colab_type": "code",
        "colab": {},
        "outputId": "903608d5-d307-421e-d838-99b9e027e006"
      },
      "source": [
        "a = np.array([6, 3, -5])\n",
        "b = np.array([-1, 0, 7])\n",
        "print 'Евклидово расстояние между a и b (через cdist):', cdist(a[np.newaxis, :], \n",
        "                                                               b[np.newaxis, :], \n",
        "                                                               metric='euclidean')"
      ],
      "execution_count": null,
      "outputs": [
        {
          "output_type": "stream",
          "text": [
            "Евклидово расстояние между a и b (через cdist): [[ 14.2126704]]\n"
          ],
          "name": "stdout"
        }
      ]
    },
    {
      "cell_type": "markdown",
      "metadata": {
        "id": "XxcD0GjNU8G0",
        "colab_type": "text"
      },
      "source": [
        "Эта функция также позволяет вычислять попарные расстояния между множествами векторов. Например, пусть у нас имеется матрица размера $m_{A} \\times n$. Мы можем рассматривать ее как описание некоторых $m_{A}$ наблюдений в $n$-мерном пространстве. Пусть также имеется еще одна аналогичная матрица размера $m_{B} \\times n$, где  $m_{B}$ векторов в том же $n$-мерном пространстве. Часто необходимо посчитать попарные расстояния между векторами первого и второго множеств. В этом случае можно пользоваться функцией __`scipy.spatial.distance.cdist(XA, XB, metric='euclidean', p=2, ...)`__, где в качестве __`XA, XB`__ необходимо передать две описанные матрицы. Функция возвращает матрицу попарных расстояний размера $m_{A} \\times m_{B}$, где элемент матрицы на $[i, j]$-ой позиции равен расстоянию между $i$-тым вектором первого множества и $j$-ым вектором второго множества. \n",
        "\n",
        "В данном случае эта функция предподчительнее __`numpy.linalg.norm(...)`__, так как она вычисляет попарные расстояния быстрее и эффективнее. "
      ]
    },
    {
      "cell_type": "markdown",
      "metadata": {
        "id": "dnSD0bXaU8G0",
        "colab_type": "text"
      },
      "source": [
        "## 5. Скалярное произведение и угол между векторами"
      ]
    },
    {
      "cell_type": "code",
      "metadata": {
        "id": "RmgjetiqU8G1",
        "colab_type": "code",
        "colab": {},
        "outputId": "3843a647-f711-4f4f-b98a-8490e1a6871c"
      },
      "source": [
        "a = np.array([0, 5, -1])\n",
        "b = np.array([-4, 9, 3])\n",
        "print 'Вектор a:', a\n",
        "print 'Вектор b:', b"
      ],
      "execution_count": null,
      "outputs": [
        {
          "output_type": "stream",
          "text": [
            "Вектор a: [ 0  5 -1]\n",
            "Вектор b: [-4  9  3]\n"
          ],
          "name": "stdout"
        }
      ]
    },
    {
      "cell_type": "markdown",
      "metadata": {
        "id": "GvKNUeGHU8G3",
        "colab_type": "text"
      },
      "source": [
        "Скалярное произведение в пространстве $\\mathbb{R}^{n}$ для двух векторов $x = (x_{1}, \\dots, x_{n})$ и $y = (y_{1}, \\dots, y_{n})$ определяется как:\n",
        "\n",
        "$$\n",
        "\\langle x, y \\rangle = \\sum_{i=1}^n x_{i} y_{i}.\n",
        "$$"
      ]
    },
    {
      "cell_type": "markdown",
      "metadata": {
        "id": "eFnnh6wIU8G3",
        "colab_type": "text"
      },
      "source": [
        "Скалярное произведение двух векторов можно вычислять с помощью функции __`numpy.dot(a, b, ...)`__ или _метода_ __`vec1.dot(vec2)`__, где __`vec1`__ и __`vec2`__ — исходные векторы. Также эти функции подходят для матричного умножения, о котором речь пойдет в следующем уроке. "
      ]
    },
    {
      "cell_type": "code",
      "metadata": {
        "id": "jQakkO4fU8G3",
        "colab_type": "code",
        "colab": {},
        "outputId": "a7121826-3327-4484-9baa-552d7db09b79"
      },
      "source": [
        "print 'Скалярное произведение a и b (через функцию):', np.dot(a, b)"
      ],
      "execution_count": null,
      "outputs": [
        {
          "output_type": "stream",
          "text": [
            "Скалярное произведение a и b (через функцию): 42\n"
          ],
          "name": "stdout"
        }
      ]
    },
    {
      "cell_type": "code",
      "metadata": {
        "id": "xRjbLVXzU8G5",
        "colab_type": "code",
        "colab": {},
        "outputId": "15f9b01f-df9f-474a-f873-b35229d99ebd"
      },
      "source": [
        "print 'Скалярное произведение a и b (через метод):', a.dot(b)"
      ],
      "execution_count": null,
      "outputs": [
        {
          "output_type": "stream",
          "text": [
            "Скалярное произведение a и b (через метод): 42\n"
          ],
          "name": "stdout"
        }
      ]
    },
    {
      "cell_type": "markdown",
      "metadata": {
        "id": "QdYo_7nlU8G7",
        "colab_type": "text"
      },
      "source": [
        "Длиной вектора $x = (x_{1}, \\dots, x_{n}) \\in \\mathbb{R}^{n}$ называется квадратный корень из скалярного произведения, то есть длина равна евклидовой норме вектора:\n",
        "\n",
        "$$\n",
        "\\left| x \\right| = \\sqrt{\\langle x, x \\rangle} = \\sqrt{\\sum_{i=1}^n x_{i}^2} =  \\left\\Vert x \\right\\Vert_{2}.\n",
        "$$"
      ]
    },
    {
      "cell_type": "markdown",
      "metadata": {
        "id": "KLcryyD5U8G7",
        "colab_type": "text"
      },
      "source": [
        "Теперь, когда мы знаем расстояние между двумя ненулевыми векторами и их длины, мы можем вычислить угол между ними через скалярное произведение:\n",
        "\n",
        "$$\n",
        "\\langle x, y \\rangle = \\left| x \\right| | y | \\cos(\\alpha)\n",
        "\\implies \\cos(\\alpha) = \\frac{\\langle x, y \\rangle}{\\left| x \\right| | y |},\n",
        "$$\n",
        "\n",
        "где $\\alpha \\in [0, \\pi]$ — угол между векторами $x$ и $y$."
      ]
    },
    {
      "cell_type": "code",
      "metadata": {
        "id": "_p3dYzYdU8G8",
        "colab_type": "code",
        "colab": {},
        "outputId": "7bdc70f5-694d-474d-f34f-bd392a265048"
      },
      "source": [
        "cos_angle = np.dot(a, b) / norm(a) / norm(b)\n",
        "print 'Косинус угла между a и b:', cos_angle\n",
        "print 'Сам угол:', np.arccos(cos_angle)"
      ],
      "execution_count": null,
      "outputs": [
        {
          "output_type": "stream",
          "text": [
            "Косинус угла между a и b: 0.800036283647\n",
            "Сам угол: 0.643440633609\n"
          ],
          "name": "stdout"
        }
      ]
    },
    {
      "cell_type": "markdown",
      "metadata": {
        "id": "ymFmozdEU8G_",
        "colab_type": "text"
      },
      "source": [
        "Более подробно о том, как вычислять скалярное произведение в `NumPy`, \n",
        "см. [документацию](http://docs.scipy.org/doc/numpy/reference/routines.linalg.html#matrix-and-vector-products)."
      ]
    }
  ]
}